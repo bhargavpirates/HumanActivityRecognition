{
  "nbformat": 4,
  "nbformat_minor": 0,
  "metadata": {
    "colab": {
      "name": "Humman Activity Recognization using LSTM.ipynb",
      "version": "0.3.2",
      "provenance": [],
      "collapsed_sections": []
    },
    "kernelspec": {
      "name": "python3",
      "display_name": "Python 3"
    }
  },
  "cells": [
    {
      "metadata": {
        "id": "5ZlWTRAADhbZ",
        "colab_type": "text"
      },
      "cell_type": "markdown",
      "source": [
        "# HumanActivityRecognition\n",
        "\n",
        "<br>\n",
        "\n",
        "\n",
        "This project is to build a model that predicts the human activities such as Walking, Walking_Upstairs, Walking_Downstairs, Sitting, Standing or Laying.\n",
        "\n",
        "This dataset is collected from 30 persons(referred as subjects in this dataset), performing different activities with a smartphone to their waists. The data is recorded with the help of sensors (accelerometer and Gyroscope) in that smartphone. This experiment was video recorded to label the data manually.\n",
        "\n",
        "## How data was recorded\n",
        "\n",
        "By using the sensors(Gyroscope and accelerometer) in a smartphone, they have captured '3-axial linear acceleration'(_tAcc-XYZ_) from accelerometer and '3-axial angular velocity' (_tGyro-XYZ_) from Gyroscope with several variations. \n",
        "\n",
        "> prefix 't' in those metrics denotes time.\n",
        "\n",
        "> suffix 'XYZ' represents 3-axial signals in X , Y, and Z directions.\n",
        "\n",
        "### Feature names\n",
        "\n",
        "1. These sensor signals are preprocessed by applying noise filters and then sampled in fixed-width windows(sliding windows) of 2.56 seconds each with 50% overlap. ie., each window has 128 readings. \n",
        "\n",
        "2. From Each window, a feature vector was obtianed by calculating variables from the time and frequency domain.\n",
        "> In our dataset, each datapoint represents a window with different readings \n",
        "3. The accelertion signal was saperated into Body and Gravity acceleration signals(___tBodyAcc-XYZ___ and ___tGravityAcc-XYZ___) using some low pass filter with corner frequecy of 0.3Hz.\n",
        "\n",
        "4. After that, the body linear acceleration and angular velocity were derived in time to obtian _jerk signals_ (___tBodyAccJerk-XYZ___ and ___tBodyGyroJerk-XYZ___). \n",
        "\n",
        "5. The magnitude of these 3-dimensional signals were calculated using the Euclidian norm. This magnitudes are represented as features with names like _tBodyAccMag_, _tGravityAccMag_, _tBodyAccJerkMag_, _tBodyGyroMag_ and _tBodyGyroJerkMag_.\n",
        "\n",
        "6. Finally, We've got frequency domain signals from some of the available signals by applying a FFT (Fast Fourier Transform). These signals obtained were labeled with ___prefix 'f'___ just like original signals with ___prefix 't'___. These signals are labeled as ___fBodyAcc-XYZ___, ___fBodyGyroMag___ etc.,.\n",
        "\n",
        "7. These are the signals that we got so far.\n",
        "\t+ tBodyAcc-XYZ\n",
        "\t+ tGravityAcc-XYZ\n",
        "\t+ tBodyAccJerk-XYZ\n",
        "\t+ tBodyGyro-XYZ\n",
        "\t+ tBodyGyroJerk-XYZ\n",
        "\t+ tBodyAccMag\n",
        "\t+ tGravityAccMag\n",
        "\t+ tBodyAccJerkMag\n",
        "\t+ tBodyGyroMag\n",
        "\t+ tBodyGyroJerkMag\n",
        "\t+ fBodyAcc-XYZ\n",
        "\t+ fBodyAccJerk-XYZ\n",
        "\t+ fBodyGyro-XYZ\n",
        "\t+ fBodyAccMag\n",
        "\t+ fBodyAccJerkMag\n",
        "\t+ fBodyGyroMag\n",
        "\t+ fBodyGyroJerkMag\n",
        "\n",
        "8. We can esitmate some set of variables from the above signals. ie., We will estimate the following properties on each and every signal that we recoreded so far.\n",
        "\n",
        "\t+ ___mean()___: Mean value\n",
        "\t+ ___std()___: Standard deviation\n",
        "\t+ ___mad()___: Median absolute deviation \n",
        "\t+ ___max()___: Largest value in array\n",
        "\t+ ___min()___: Smallest value in array\n",
        "\t+ ___sma()___: Signal magnitude area\n",
        "\t+ ___energy()___: Energy measure. Sum of the squares divided by the number of values. \n",
        "\t+ ___iqr()___: Interquartile range \n",
        "\t+ ___entropy()___: Signal entropy\n",
        "\t+ ___arCoeff()___: Autorregresion coefficients with Burg order equal to 4\n",
        "\t+ ___correlation()___: correlation coefficient between two signals\n",
        "\t+ ___maxInds()___: index of the frequency component with largest magnitude\n",
        "\t+ ___meanFreq()___: Weighted average of the frequency components to obtain a mean frequency\n",
        "\t+ ___skewness()___: skewness of the frequency domain signal \n",
        "\t+ ___kurtosis()___: kurtosis of the frequency domain signal \n",
        "\t+ ___bandsEnergy()___: Energy of a frequency interval within the 64 bins of the FFT of each window.\n",
        "\t+ ___angle()___: Angle between to vectors.\n",
        "\n",
        "9. We can obtain some other vectors by taking the average of signals in a single window sample. These are used on the angle() variable'\n",
        "`\n",
        "\t+ gravityMean\n",
        "\t+ tBodyAccMean\n",
        "\t+ tBodyAccJerkMean\n",
        "\t+ tBodyGyroMean\n",
        "\t+ tBodyGyroJerkMean\n",
        "\n",
        "\n",
        "###  Y_Labels(Encoded)\n",
        "+ In the dataset, Y_labels are represented as numbers from 1 to 6 as their identifiers.\n",
        "\n",
        "\t- WALKING as __1__\n",
        "\t- WALKING_UPSTAIRS as __2__\n",
        "\t- WALKING_DOWNSTAIRS as __3__\n",
        "\t- SITTING as __4__\n",
        "\t- STANDING as __5__\n",
        "\t- LAYING as __6__\n",
        "    \n",
        "## Train and test data were saperated\n",
        " - The readings from ___70%___ of the volunteers were taken as ___trianing data___ and remaining ___30%___ subjects recordings were taken for ___test data___\n",
        " \n",
        "## Data\n",
        "\n",
        "* All the data is present in 'UCI_HAR_dataset/' folder in present working directory.\n",
        "     - Feature names are present in 'UCI_HAR_dataset/features.txt'\n",
        "     - ___Train Data___\n",
        "         - 'UCI_HAR_dataset/train/X_train.txt'\n",
        "         - 'UCI_HAR_dataset/train/subject_train.txt'\n",
        "         - 'UCI_HAR_dataset/train/y_train.txt'\n",
        "     - ___Test Data___\n",
        "         - 'UCI_HAR_dataset/test/X_test.txt'\n",
        "         - 'UCI_HAR_dataset/test/subject_test.txt'\n",
        "         - 'UCI_HAR_dataset/test/y_test.txt'\n",
        "         \n",
        "\n",
        "## Data Size :\n",
        "> 27 MB\n"
      ]
    },
    {
      "metadata": {
        "id": "mA6gxpYFEKKr",
        "colab_type": "text"
      },
      "cell_type": "markdown",
      "source": [
        "# Quick overview of the dataset :"
      ]
    },
    {
      "metadata": {
        "id": "5-igF2AcEE83",
        "colab_type": "text"
      },
      "cell_type": "markdown",
      "source": [
        "\n",
        "* Accelerometer and Gyroscope readings are taken from 30 volunteers(referred as subjects) while performing the following 6 Activities.\n",
        "\n",
        "    1. Walking     \n",
        "    2. WalkingUpstairs \n",
        "    3. WalkingDownstairs \n",
        "    4. Standing \n",
        "    5. Sitting \n",
        "    6. Lying.\n",
        "\n",
        "\n",
        "* Readings are divided into a window of 2.56 seconds with 50% overlapping. \n",
        "\n",
        "* Accelerometer readings are divided into gravity acceleration and body acceleration readings,\n",
        "  which has x,y and z components each.\n",
        "\n",
        "* Gyroscope readings are the measure of angular velocities which has x,y and z components.\n",
        "\n",
        "* Jerk signals are calculated for BodyAcceleration readings.\n",
        "\n",
        "* Fourier Transforms are made on the above time readings to obtain frequency readings.\n",
        "\n",
        "* Now, on all the base signal readings., mean, max, mad, sma, arcoefficient, engerybands,entropy etc., are calculated for each window.\n",
        "\n",
        "* We get a feature vector of 561 features and these features are given in the dataset.\n",
        "\n",
        "* Each window of readings is a datapoint of 561 features.\n",
        "\n",
        "## Problem Framework\n",
        "\n",
        "* 30 subjects(volunteers) data is randomly split to 70%(21) test and 30%(7) train data.\n",
        "* Each datapoint corresponds one of the 6 Activities.\n"
      ]
    },
    {
      "metadata": {
        "id": "W5REhAU_EO-v",
        "colab_type": "text"
      },
      "cell_type": "markdown",
      "source": [
        "## Problem Statement\n",
        "Given a new datapoint we have to predict the Activity"
      ]
    },
    {
      "metadata": {
        "id": "5y7qP87rD0nz",
        "colab_type": "text"
      },
      "cell_type": "markdown",
      "source": [
        "### Importing Libraries"
      ]
    },
    {
      "metadata": {
        "id": "0aEZESZl5L5Z",
        "colab_type": "code",
        "colab": {}
      },
      "cell_type": "code",
      "source": [
        "import pandas as pd\n",
        "import numpy as np"
      ],
      "execution_count": 0,
      "outputs": []
    },
    {
      "metadata": {
        "id": "7K3JEKtlu3LL",
        "colab_type": "text"
      },
      "cell_type": "markdown",
      "source": [
        "## Obtain the train and test data"
      ]
    },
    {
      "metadata": {
        "id": "PerAzwgdv1hC",
        "colab_type": "code",
        "outputId": "da08101c-62b4-4344-d1f5-f2c55bc2dd15",
        "colab": {
          "base_uri": "https://localhost:8080/",
          "height": 122
        }
      },
      "cell_type": "code",
      "source": [
        "from google.colab import drive\n",
        "drive.mount('/content/drive')"
      ],
      "execution_count": 0,
      "outputs": [
        {
          "output_type": "stream",
          "text": [
            "Go to this URL in a browser: https://accounts.google.com/o/oauth2/auth?client_id=947318989803-6bn6qk8qdgf4n4g3pfee6491hc0brc4i.apps.googleusercontent.com&redirect_uri=urn%3Aietf%3Awg%3Aoauth%3A2.0%3Aoob&scope=email%20https%3A%2F%2Fwww.googleapis.com%2Fauth%2Fdocs.test%20https%3A%2F%2Fwww.googleapis.com%2Fauth%2Fdrive%20https%3A%2F%2Fwww.googleapis.com%2Fauth%2Fdrive.photos.readonly%20https%3A%2F%2Fwww.googleapis.com%2Fauth%2Fpeopleapi.readonly&response_type=code\n",
            "\n",
            "Enter your authorization code:\n",
            "··········\n",
            "Mounted at /content/drive\n"
          ],
          "name": "stdout"
        }
      ]
    },
    {
      "metadata": {
        "id": "C_txgntCvbdU",
        "colab_type": "code",
        "colab": {}
      },
      "cell_type": "code",
      "source": [
        "!cp  -r \"/content/drive/My Drive/UCI_HAR_Dataset/csv_files/train.csv\" \"train.csv\"\n",
        "!cp  -r \"/content/drive/My Drive/UCI_HAR_Dataset/csv_files/test.csv\" \"test.csv\""
      ],
      "execution_count": 0,
      "outputs": []
    },
    {
      "metadata": {
        "id": "6SBuaVChu-zY",
        "colab_type": "code",
        "outputId": "dd3ce0ed-ca8c-4b9b-b642-44b0d7b81d57",
        "colab": {
          "base_uri": "https://localhost:8080/",
          "height": 34
        }
      },
      "cell_type": "code",
      "source": [
        "train = pd.read_csv('train.csv')\n",
        "test = pd.read_csv('test.csv')\n",
        "print(train.shape, test.shape)"
      ],
      "execution_count": 0,
      "outputs": [
        {
          "output_type": "stream",
          "text": [
            "(7352, 564) (2947, 564)\n"
          ],
          "name": "stdout"
        }
      ]
    },
    {
      "metadata": {
        "id": "ZiiyZ-njvKAE",
        "colab_type": "code",
        "outputId": "70533098-6527-4742-930f-876321c069de",
        "colab": {
          "base_uri": "https://localhost:8080/",
          "height": 191
        }
      },
      "cell_type": "code",
      "source": [
        "train.head(3)"
      ],
      "execution_count": 0,
      "outputs": [
        {
          "output_type": "execute_result",
          "data": {
            "text/html": [
              "<div>\n",
              "<style scoped>\n",
              "    .dataframe tbody tr th:only-of-type {\n",
              "        vertical-align: middle;\n",
              "    }\n",
              "\n",
              "    .dataframe tbody tr th {\n",
              "        vertical-align: top;\n",
              "    }\n",
              "\n",
              "    .dataframe thead th {\n",
              "        text-align: right;\n",
              "    }\n",
              "</style>\n",
              "<table border=\"1\" class=\"dataframe\">\n",
              "  <thead>\n",
              "    <tr style=\"text-align: right;\">\n",
              "      <th></th>\n",
              "      <th>tBodyAccmeanX</th>\n",
              "      <th>tBodyAccmeanY</th>\n",
              "      <th>tBodyAccmeanZ</th>\n",
              "      <th>tBodyAccstdX</th>\n",
              "      <th>tBodyAccstdY</th>\n",
              "      <th>tBodyAccstdZ</th>\n",
              "      <th>tBodyAccmadX</th>\n",
              "      <th>tBodyAccmadY</th>\n",
              "      <th>tBodyAccmadZ</th>\n",
              "      <th>tBodyAccmaxX</th>\n",
              "      <th>...</th>\n",
              "      <th>angletBodyAccMeangravity</th>\n",
              "      <th>angletBodyAccJerkMeangravityMean</th>\n",
              "      <th>angletBodyGyroMeangravityMean</th>\n",
              "      <th>angletBodyGyroJerkMeangravityMean</th>\n",
              "      <th>angleXgravityMean</th>\n",
              "      <th>angleYgravityMean</th>\n",
              "      <th>angleZgravityMean</th>\n",
              "      <th>subject</th>\n",
              "      <th>Activity</th>\n",
              "      <th>ActivityName</th>\n",
              "    </tr>\n",
              "  </thead>\n",
              "  <tbody>\n",
              "    <tr>\n",
              "      <th>0</th>\n",
              "      <td>0.288585</td>\n",
              "      <td>-0.020294</td>\n",
              "      <td>-0.132905</td>\n",
              "      <td>-0.995279</td>\n",
              "      <td>-0.983111</td>\n",
              "      <td>-0.913526</td>\n",
              "      <td>-0.995112</td>\n",
              "      <td>-0.983185</td>\n",
              "      <td>-0.923527</td>\n",
              "      <td>-0.934724</td>\n",
              "      <td>...</td>\n",
              "      <td>-0.112754</td>\n",
              "      <td>0.030400</td>\n",
              "      <td>-0.464761</td>\n",
              "      <td>-0.018446</td>\n",
              "      <td>-0.841247</td>\n",
              "      <td>0.179941</td>\n",
              "      <td>-0.058627</td>\n",
              "      <td>1</td>\n",
              "      <td>5</td>\n",
              "      <td>STANDING</td>\n",
              "    </tr>\n",
              "    <tr>\n",
              "      <th>1</th>\n",
              "      <td>0.278419</td>\n",
              "      <td>-0.016411</td>\n",
              "      <td>-0.123520</td>\n",
              "      <td>-0.998245</td>\n",
              "      <td>-0.975300</td>\n",
              "      <td>-0.960322</td>\n",
              "      <td>-0.998807</td>\n",
              "      <td>-0.974914</td>\n",
              "      <td>-0.957686</td>\n",
              "      <td>-0.943068</td>\n",
              "      <td>...</td>\n",
              "      <td>0.053477</td>\n",
              "      <td>-0.007435</td>\n",
              "      <td>-0.732626</td>\n",
              "      <td>0.703511</td>\n",
              "      <td>-0.844788</td>\n",
              "      <td>0.180289</td>\n",
              "      <td>-0.054317</td>\n",
              "      <td>1</td>\n",
              "      <td>5</td>\n",
              "      <td>STANDING</td>\n",
              "    </tr>\n",
              "    <tr>\n",
              "      <th>2</th>\n",
              "      <td>0.279653</td>\n",
              "      <td>-0.019467</td>\n",
              "      <td>-0.113462</td>\n",
              "      <td>-0.995380</td>\n",
              "      <td>-0.967187</td>\n",
              "      <td>-0.978944</td>\n",
              "      <td>-0.996520</td>\n",
              "      <td>-0.963668</td>\n",
              "      <td>-0.977469</td>\n",
              "      <td>-0.938692</td>\n",
              "      <td>...</td>\n",
              "      <td>-0.118559</td>\n",
              "      <td>0.177899</td>\n",
              "      <td>0.100699</td>\n",
              "      <td>0.808529</td>\n",
              "      <td>-0.848933</td>\n",
              "      <td>0.180637</td>\n",
              "      <td>-0.049118</td>\n",
              "      <td>1</td>\n",
              "      <td>5</td>\n",
              "      <td>STANDING</td>\n",
              "    </tr>\n",
              "  </tbody>\n",
              "</table>\n",
              "<p>3 rows × 564 columns</p>\n",
              "</div>"
            ],
            "text/plain": [
              "   tBodyAccmeanX  tBodyAccmeanY  tBodyAccmeanZ  tBodyAccstdX  tBodyAccstdY  \\\n",
              "0       0.288585      -0.020294      -0.132905     -0.995279     -0.983111   \n",
              "1       0.278419      -0.016411      -0.123520     -0.998245     -0.975300   \n",
              "2       0.279653      -0.019467      -0.113462     -0.995380     -0.967187   \n",
              "\n",
              "   tBodyAccstdZ  tBodyAccmadX  tBodyAccmadY  tBodyAccmadZ  tBodyAccmaxX  \\\n",
              "0     -0.913526     -0.995112     -0.983185     -0.923527     -0.934724   \n",
              "1     -0.960322     -0.998807     -0.974914     -0.957686     -0.943068   \n",
              "2     -0.978944     -0.996520     -0.963668     -0.977469     -0.938692   \n",
              "\n",
              "       ...       angletBodyAccMeangravity  angletBodyAccJerkMeangravityMean  \\\n",
              "0      ...                      -0.112754                          0.030400   \n",
              "1      ...                       0.053477                         -0.007435   \n",
              "2      ...                      -0.118559                          0.177899   \n",
              "\n",
              "   angletBodyGyroMeangravityMean  angletBodyGyroJerkMeangravityMean  \\\n",
              "0                      -0.464761                          -0.018446   \n",
              "1                      -0.732626                           0.703511   \n",
              "2                       0.100699                           0.808529   \n",
              "\n",
              "   angleXgravityMean  angleYgravityMean  angleZgravityMean  subject  Activity  \\\n",
              "0          -0.841247           0.179941          -0.058627        1         5   \n",
              "1          -0.844788           0.180289          -0.054317        1         5   \n",
              "2          -0.848933           0.180637          -0.049118        1         5   \n",
              "\n",
              "   ActivityName  \n",
              "0      STANDING  \n",
              "1      STANDING  \n",
              "2      STANDING  \n",
              "\n",
              "[3 rows x 564 columns]"
            ]
          },
          "metadata": {
            "tags": []
          },
          "execution_count": 9
        }
      ]
    },
    {
      "metadata": {
        "id": "WSWRAvPkvLOc",
        "colab_type": "code",
        "outputId": "16ab5816-34fa-4d36-bc0a-2466047fc795",
        "colab": {
          "base_uri": "https://localhost:8080/",
          "height": 191
        }
      },
      "cell_type": "code",
      "source": [
        "test.head(3)"
      ],
      "execution_count": 0,
      "outputs": [
        {
          "output_type": "execute_result",
          "data": {
            "text/html": [
              "<div>\n",
              "<style scoped>\n",
              "    .dataframe tbody tr th:only-of-type {\n",
              "        vertical-align: middle;\n",
              "    }\n",
              "\n",
              "    .dataframe tbody tr th {\n",
              "        vertical-align: top;\n",
              "    }\n",
              "\n",
              "    .dataframe thead th {\n",
              "        text-align: right;\n",
              "    }\n",
              "</style>\n",
              "<table border=\"1\" class=\"dataframe\">\n",
              "  <thead>\n",
              "    <tr style=\"text-align: right;\">\n",
              "      <th></th>\n",
              "      <th>tBodyAccmeanX</th>\n",
              "      <th>tBodyAccmeanY</th>\n",
              "      <th>tBodyAccmeanZ</th>\n",
              "      <th>tBodyAccstdX</th>\n",
              "      <th>tBodyAccstdY</th>\n",
              "      <th>tBodyAccstdZ</th>\n",
              "      <th>tBodyAccmadX</th>\n",
              "      <th>tBodyAccmadY</th>\n",
              "      <th>tBodyAccmadZ</th>\n",
              "      <th>tBodyAccmaxX</th>\n",
              "      <th>...</th>\n",
              "      <th>angletBodyAccMeangravity</th>\n",
              "      <th>angletBodyAccJerkMeangravityMean</th>\n",
              "      <th>angletBodyGyroMeangravityMean</th>\n",
              "      <th>angletBodyGyroJerkMeangravityMean</th>\n",
              "      <th>angleXgravityMean</th>\n",
              "      <th>angleYgravityMean</th>\n",
              "      <th>angleZgravityMean</th>\n",
              "      <th>subject</th>\n",
              "      <th>Activity</th>\n",
              "      <th>ActivityName</th>\n",
              "    </tr>\n",
              "  </thead>\n",
              "  <tbody>\n",
              "    <tr>\n",
              "      <th>0</th>\n",
              "      <td>0.257178</td>\n",
              "      <td>-0.023285</td>\n",
              "      <td>-0.014654</td>\n",
              "      <td>-0.938404</td>\n",
              "      <td>-0.920091</td>\n",
              "      <td>-0.667683</td>\n",
              "      <td>-0.952501</td>\n",
              "      <td>-0.925249</td>\n",
              "      <td>-0.674302</td>\n",
              "      <td>-0.894088</td>\n",
              "      <td>...</td>\n",
              "      <td>0.006462</td>\n",
              "      <td>0.162920</td>\n",
              "      <td>-0.825886</td>\n",
              "      <td>0.271151</td>\n",
              "      <td>-0.720009</td>\n",
              "      <td>0.276801</td>\n",
              "      <td>-0.057978</td>\n",
              "      <td>2</td>\n",
              "      <td>5</td>\n",
              "      <td>STANDING</td>\n",
              "    </tr>\n",
              "    <tr>\n",
              "      <th>1</th>\n",
              "      <td>0.286027</td>\n",
              "      <td>-0.013163</td>\n",
              "      <td>-0.119083</td>\n",
              "      <td>-0.975415</td>\n",
              "      <td>-0.967458</td>\n",
              "      <td>-0.944958</td>\n",
              "      <td>-0.986799</td>\n",
              "      <td>-0.968401</td>\n",
              "      <td>-0.945823</td>\n",
              "      <td>-0.894088</td>\n",
              "      <td>...</td>\n",
              "      <td>-0.083495</td>\n",
              "      <td>0.017500</td>\n",
              "      <td>-0.434375</td>\n",
              "      <td>0.920593</td>\n",
              "      <td>-0.698091</td>\n",
              "      <td>0.281343</td>\n",
              "      <td>-0.083898</td>\n",
              "      <td>2</td>\n",
              "      <td>5</td>\n",
              "      <td>STANDING</td>\n",
              "    </tr>\n",
              "    <tr>\n",
              "      <th>2</th>\n",
              "      <td>0.275485</td>\n",
              "      <td>-0.026050</td>\n",
              "      <td>-0.118152</td>\n",
              "      <td>-0.993819</td>\n",
              "      <td>-0.969926</td>\n",
              "      <td>-0.962748</td>\n",
              "      <td>-0.994403</td>\n",
              "      <td>-0.970735</td>\n",
              "      <td>-0.963483</td>\n",
              "      <td>-0.939260</td>\n",
              "      <td>...</td>\n",
              "      <td>-0.034956</td>\n",
              "      <td>0.202302</td>\n",
              "      <td>0.064103</td>\n",
              "      <td>0.145068</td>\n",
              "      <td>-0.702771</td>\n",
              "      <td>0.280083</td>\n",
              "      <td>-0.079346</td>\n",
              "      <td>2</td>\n",
              "      <td>5</td>\n",
              "      <td>STANDING</td>\n",
              "    </tr>\n",
              "  </tbody>\n",
              "</table>\n",
              "<p>3 rows × 564 columns</p>\n",
              "</div>"
            ],
            "text/plain": [
              "   tBodyAccmeanX  tBodyAccmeanY  tBodyAccmeanZ  tBodyAccstdX  tBodyAccstdY  \\\n",
              "0       0.257178      -0.023285      -0.014654     -0.938404     -0.920091   \n",
              "1       0.286027      -0.013163      -0.119083     -0.975415     -0.967458   \n",
              "2       0.275485      -0.026050      -0.118152     -0.993819     -0.969926   \n",
              "\n",
              "   tBodyAccstdZ  tBodyAccmadX  tBodyAccmadY  tBodyAccmadZ  tBodyAccmaxX  \\\n",
              "0     -0.667683     -0.952501     -0.925249     -0.674302     -0.894088   \n",
              "1     -0.944958     -0.986799     -0.968401     -0.945823     -0.894088   \n",
              "2     -0.962748     -0.994403     -0.970735     -0.963483     -0.939260   \n",
              "\n",
              "       ...       angletBodyAccMeangravity  angletBodyAccJerkMeangravityMean  \\\n",
              "0      ...                       0.006462                          0.162920   \n",
              "1      ...                      -0.083495                          0.017500   \n",
              "2      ...                      -0.034956                          0.202302   \n",
              "\n",
              "   angletBodyGyroMeangravityMean  angletBodyGyroJerkMeangravityMean  \\\n",
              "0                      -0.825886                           0.271151   \n",
              "1                      -0.434375                           0.920593   \n",
              "2                       0.064103                           0.145068   \n",
              "\n",
              "   angleXgravityMean  angleYgravityMean  angleZgravityMean  subject  Activity  \\\n",
              "0          -0.720009           0.276801          -0.057978        2         5   \n",
              "1          -0.698091           0.281343          -0.083898        2         5   \n",
              "2          -0.702771           0.280083          -0.079346        2         5   \n",
              "\n",
              "   ActivityName  \n",
              "0      STANDING  \n",
              "1      STANDING  \n",
              "2      STANDING  \n",
              "\n",
              "[3 rows x 564 columns]"
            ]
          },
          "metadata": {
            "tags": []
          },
          "execution_count": 10
        }
      ]
    },
    {
      "metadata": {
        "id": "wZPGW2FyvQwi",
        "colab_type": "code",
        "colab": {}
      },
      "cell_type": "code",
      "source": [
        "# get X_train and y_train from csv files\n",
        "X_train = train.drop(['subject', 'Activity', 'ActivityName'], axis=1)\n",
        "y_train = train.ActivityName"
      ],
      "execution_count": 0,
      "outputs": []
    },
    {
      "metadata": {
        "id": "9DeHSIRCvRUf",
        "colab_type": "code",
        "colab": {}
      },
      "cell_type": "code",
      "source": [
        "# get X_test and y_test from test csv file\n",
        "X_test = test.drop(['subject', 'Activity', 'ActivityName'], axis=1)\n",
        "y_test = test.ActivityName"
      ],
      "execution_count": 0,
      "outputs": []
    },
    {
      "metadata": {
        "id": "ns-yM9fqvTWE",
        "colab_type": "code",
        "outputId": "d4e9f2a0-7054-4f44-9324-9d5cc10a6344",
        "colab": {
          "base_uri": "https://localhost:8080/",
          "height": 51
        }
      },
      "cell_type": "code",
      "source": [
        "print('X_train and y_train : ({},{})'.format(X_train.shape, y_train.shape))\n",
        "print('X_test  and y_test  : ({},{})'.format(X_test.shape, y_test.shape))"
      ],
      "execution_count": 0,
      "outputs": [
        {
          "output_type": "stream",
          "text": [
            "X_train and y_train : ((7352, 561),(7352,))\n",
            "X_test  and y_test  : ((2947, 561),(2947,))\n"
          ],
          "name": "stdout"
        }
      ]
    },
    {
      "metadata": {
        "id": "pjUApGDdwWvW",
        "colab_type": "text"
      },
      "cell_type": "markdown",
      "source": [
        "## Let's model with our data"
      ]
    },
    {
      "metadata": {
        "id": "aNOr1a7X5Oda",
        "colab_type": "code",
        "colab": {}
      },
      "cell_type": "code",
      "source": [
        "# Activities are the class labels\n",
        "# It is a 6 class classification\n",
        "ACTIVITIES = {\n",
        "    0: 'WALKING',\n",
        "    1: 'WALKING_UPSTAIRS',\n",
        "    2: 'WALKING_DOWNSTAIRS',\n",
        "    3: 'SITTING',\n",
        "    4: 'STANDING',\n",
        "    5: 'LAYING',\n",
        "}\n",
        "\n",
        "# Utility function to print the confusion matrix\n",
        "def confusion_matrix(Y_true, Y_pred):\n",
        "    Y_true = pd.Series([ACTIVITIES[y] for y in np.argmax(Y_true, axis=1)])\n",
        "    Y_pred = pd.Series([ACTIVITIES[y] for y in np.argmax(Y_pred, axis=1)])\n",
        "\n",
        "    return pd.crosstab(Y_true, Y_pred, rownames=['True'], colnames=['Pred'])"
      ],
      "execution_count": 0,
      "outputs": []
    },
    {
      "metadata": {
        "id": "RwhoGH_45QfA",
        "colab_type": "code",
        "colab": {}
      },
      "cell_type": "code",
      "source": [
        "# Raw data signals\n",
        "# Signals are from Accelerometer and Gyroscope\n",
        "# The signals are in x,y,z directions\n",
        "# Sensor signals are filtered to have only body acceleration\n",
        "# excluding the acceleration due to gravity\n",
        "# Triaxial acceleration from the accelerometer is total acceleration\n",
        "SIGNALS = [\n",
        "    \"body_acc_x\",\n",
        "    \"body_acc_y\",\n",
        "    \"body_acc_z\",\n",
        "    \"body_gyro_x\",\n",
        "    \"body_gyro_y\",\n",
        "    \"body_gyro_z\",\n",
        "    \"total_acc_x\",\n",
        "    \"total_acc_y\",\n",
        "    \"total_acc_z\"\n",
        "]"
      ],
      "execution_count": 0,
      "outputs": []
    },
    {
      "metadata": {
        "id": "x2bQHm0Z5T6w",
        "colab_type": "code",
        "colab": {}
      },
      "cell_type": "code",
      "source": [
        "# Data directory\n",
        "DATADIR = 'UCI_HAR_Dataset'"
      ],
      "execution_count": 0,
      "outputs": []
    },
    {
      "metadata": {
        "id": "T229tLHmw0gm",
        "colab_type": "text"
      },
      "cell_type": "markdown",
      "source": [
        "### functions for reading a file"
      ]
    },
    {
      "metadata": {
        "id": "8QI91MTe5Vv3",
        "colab_type": "code",
        "colab": {}
      },
      "cell_type": "code",
      "source": [
        "# Utility function to read the data from csv file\n",
        "def _read_csv(filename):\n",
        "    return pd.read_csv(filename, delim_whitespace=True, header=None)\n",
        "\n",
        "# Utility function to load the load\n",
        "def load_signals(subset):\n",
        "    signals_data = []\n",
        "\n",
        "    for signal in SIGNALS:\n",
        "        filename = f'{signal}_{subset}.txt'\n",
        "        signals_data.append(\n",
        "            _read_csv(filename).as_matrix()\n",
        "        ) \n",
        "\n",
        "    # Transpose is used to change the dimensionality of the output,\n",
        "    # aggregating the signals by combination of sample/timestep.\n",
        "    # Resultant shape is (7352 train/2947 test samples, 128 timesteps, 9 signals)\n",
        "    return np.transpose(signals_data, (1, 2, 0))"
      ],
      "execution_count": 0,
      "outputs": []
    },
    {
      "metadata": {
        "id": "RnMNGp3U5XY0",
        "colab_type": "code",
        "colab": {}
      },
      "cell_type": "code",
      "source": [
        "\n",
        "def load_y(subset):\n",
        "    \"\"\"\n",
        "    The objective that we are trying to predict is a integer, from 1 to 6,\n",
        "    that represents a human activity. We return a binary representation of \n",
        "    every sample objective as a 6 bits vector using One Hot Encoding\n",
        "    (https://pandas.pydata.org/pandas-docs/stable/generated/pandas.get_dummies.html)\n",
        "    \"\"\"\n",
        "    filename = f'y_{subset}.txt'\n",
        "    y = _read_csv(filename)[0]\n",
        "\n",
        "    return pd.get_dummies(y).as_matrix()"
      ],
      "execution_count": 0,
      "outputs": []
    },
    {
      "metadata": {
        "id": "D2T834i35uFP",
        "colab_type": "code",
        "colab": {}
      },
      "cell_type": "code",
      "source": [
        "!cp  -r \"/content/drive/My Drive/UCI_HAR_Dataset/test/Inertial Signals/body_acc_x_test.txt\" \"body_acc_x_test.txt\"\n",
        "!cp  -r \"/content/drive/My Drive/UCI_HAR_Dataset/test/Inertial Signals/body_acc_y_test.txt\" \"body_acc_y_test.txt\"\n",
        "!cp  -r \"/content/drive/My Drive/UCI_HAR_Dataset/test/Inertial Signals/body_acc_z_test.txt\" \"body_acc_z_test.txt\"\n",
        "!cp  -r \"/content/drive/My Drive/UCI_HAR_Dataset/test/Inertial Signals/body_gyro_x_test.txt\" \"body_gyro_x_test.txt\"\n",
        "!cp  -r \"/content/drive/My Drive/UCI_HAR_Dataset/test/Inertial Signals/body_gyro_y_test.txt\" \"body_gyro_y_test.txt\"\n",
        "!cp  -r \"/content/drive/My Drive/UCI_HAR_Dataset/test/Inertial Signals/body_gyro_z_test.txt\" \"body_gyro_z_test.txt\"\n",
        "!cp  -r \"/content/drive/My Drive/UCI_HAR_Dataset/test/Inertial Signals/total_acc_x_test.txt\" \"total_acc_x_test.txt\"\n",
        "!cp  -r \"/content/drive/My Drive/UCI_HAR_Dataset/test/Inertial Signals/total_acc_y_test.txt\" \"total_acc_y_test.txt\"\n",
        "!cp  -r \"/content/drive/My Drive/UCI_HAR_Dataset/test/Inertial Signals/total_acc_z_test.txt\" \"total_acc_z_test.txt\"\n",
        "\n",
        "\n",
        "!cp  -r \"/content/drive/My Drive/UCI_HAR_Dataset/train/Inertial Signals/body_acc_x_train.txt\" \"body_acc_x_train.txt\"\n",
        "!cp  -r \"/content/drive/My Drive/UCI_HAR_Dataset/train/Inertial Signals/body_acc_y_train.txt\" \"body_acc_y_train.txt\"\n",
        "!cp  -r \"/content/drive/My Drive/UCI_HAR_Dataset/train/Inertial Signals/body_acc_z_train.txt\" \"body_acc_z_train.txt\"\n",
        "!cp  -r \"/content/drive/My Drive/UCI_HAR_Dataset/train/Inertial Signals/body_gyro_x_train.txt\" \"body_gyro_x_train.txt\"\n",
        "!cp  -r \"/content/drive/My Drive/UCI_HAR_Dataset/train/Inertial Signals/body_gyro_y_train.txt\" \"body_gyro_y_train.txt\"\n",
        "!cp  -r \"/content/drive/My Drive/UCI_HAR_Dataset/train/Inertial Signals/body_gyro_z_train.txt\" \"body_gyro_z_train.txt\"\n",
        "!cp  -r \"/content/drive/My Drive/UCI_HAR_Dataset/train/Inertial Signals/total_acc_x_train.txt\" \"total_acc_x_train.txt\"\n",
        "!cp  -r \"/content/drive/My Drive/UCI_HAR_Dataset/train/Inertial Signals/total_acc_y_train.txt\" \"total_acc_y_train.txt\"\n",
        "!cp  -r \"/content/drive/My Drive/UCI_HAR_Dataset/train/Inertial Signals/total_acc_z_train.txt\" \"total_acc_z_train.txt\"\n",
        "\n",
        "\n",
        "!cp  -r \"/content/drive/My Drive/UCI_HAR_Dataset/train/X_train.txt\" \"X_train.txt\"\n",
        "!cp  -r \"/content/drive/My Drive/UCI_HAR_Dataset/test/X_test.txt\" \"X_test.txt\"\n",
        "!cp  -r \"/content/drive/My Drive/UCI_HAR_Dataset/test/y_test.txt\" \"y_test.txt\"\n",
        "!cp  -r \"/content/drive/My Drive/UCI_HAR_Dataset/train/y_train.txt\" \"y_train.txt\""
      ],
      "execution_count": 0,
      "outputs": []
    },
    {
      "metadata": {
        "id": "nK_9eJ3ryMUV",
        "colab_type": "code",
        "colab": {}
      },
      "cell_type": "code",
      "source": [
        "# Utility function to count the number of classes\n",
        "def _count_classes(y):\n",
        "    return len(set([tuple(category) for category in y]))"
      ],
      "execution_count": 0,
      "outputs": []
    },
    {
      "metadata": {
        "id": "fH-sqC_Z5aKz",
        "colab_type": "code",
        "colab": {}
      },
      "cell_type": "code",
      "source": [
        "def load_data():\n",
        "  \n",
        "    SIGNALS = [\n",
        "    \"body_acc_x\",\n",
        "    \"body_acc_y\",\n",
        "    \"body_acc_z\",\n",
        "    \"body_gyro_x\",\n",
        "    \"body_gyro_y\",\n",
        "    \"body_gyro_z\",\n",
        "    \"total_acc_x\",\n",
        "    \"total_acc_y\",\n",
        "    \"total_acc_z\"\n",
        "    ]\n",
        "  \n",
        "    \n",
        "    def _read_csv(filename):\n",
        "        return pd.read_csv(filename, delim_whitespace=True, header=None)\n",
        "\n",
        "    \n",
        "    def load_signals(subset):\n",
        "        signals_data = []\n",
        "        for signal in SIGNALS:\n",
        "            filename = f'{signal}_{subset}.txt'\n",
        "            signals_data.append(\n",
        "                _read_csv(filename).as_matrix()\n",
        "            ) \n",
        "        return np.transpose(signals_data, (1, 2, 0))\n",
        "\n",
        "    def load_y(subset):\n",
        "        filename = f'y_{subset}.txt'\n",
        "        y = _read_csv(filename)[0]\n",
        "\n",
        "        return pd.get_dummies(y).as_matrix()\n",
        "  \n",
        "  \n",
        "    X_train, X_test = load_signals('train'), load_signals('test')\n",
        "    y_train, y_test = load_y('train'), load_y('test')\n",
        "\n",
        "    return X_train, X_test, y_train, y_test"
      ],
      "execution_count": 0,
      "outputs": []
    },
    {
      "metadata": {
        "id": "SN_ZW3ns5cq_",
        "colab_type": "code",
        "colab": {}
      },
      "cell_type": "code",
      "source": [
        " x_train, x_test, y_train, y_test= load_data()"
      ],
      "execution_count": 0,
      "outputs": []
    },
    {
      "metadata": {
        "id": "X6RGG1mz5hWa",
        "colab_type": "code",
        "outputId": "8d5d6daf-4917-4dca-e6e4-b3294bdea6c8",
        "colab": {
          "base_uri": "https://localhost:8080/",
          "height": 34
        }
      },
      "cell_type": "code",
      "source": [
        "# Importing tensorflow\n",
        "np.random.seed(42)\n",
        "import tensorflow as tf\n",
        "\n",
        "\n",
        "# Configuring a session\n",
        "session_conf = tf.ConfigProto(\n",
        "    intra_op_parallelism_threads=1,\n",
        "    inter_op_parallelism_threads=1\n",
        ")\n",
        "\n",
        "\n",
        "# Import Keras\n",
        "from keras import backend as K\n",
        "sess = tf.Session(graph=tf.get_default_graph(), config=session_conf)\n",
        "K.set_session(sess)\n",
        "\n",
        "\n",
        "# Importing libraries\n",
        "from keras.models import Sequential\n",
        "from keras.layers import LSTM\n",
        "from keras.layers.core import Dense, Dropout\n",
        "\n",
        "\n",
        "import numpy as np\n",
        "from keras.layers import LSTM\n",
        "from hyperopt import Trials, STATUS_OK, tpe\n",
        "from keras.datasets import mnist\n",
        "from keras.layers.core import Dense, Dropout, Activation\n",
        "from keras.models import Sequential\n",
        "from keras.utils import np_utils\n",
        "\n",
        "from keras.models import Sequential\n",
        "from keras.layers import Dense\n",
        "from keras.optimizers import Adam"
      ],
      "execution_count": 0,
      "outputs": [
        {
          "output_type": "stream",
          "text": [
            "Using TensorFlow backend.\n"
          ],
          "name": "stderr"
        }
      ]
    },
    {
      "metadata": {
        "id": "d67jjI50xZLQ",
        "colab_type": "text"
      },
      "cell_type": "markdown",
      "source": [
        "## LSTM MOdels"
      ]
    },
    {
      "metadata": {
        "id": "FJ3bmvQex7nT",
        "colab_type": "code",
        "colab": {}
      },
      "cell_type": "code",
      "source": [
        "# Initializing parameters\n",
        "epochs = 30\n",
        "batch_size = 16\n",
        "n_hidden = 32"
      ],
      "execution_count": 0,
      "outputs": []
    },
    {
      "metadata": {
        "id": "-7ga7CiAyAV9",
        "colab_type": "code",
        "outputId": "bedc6f3d-ccf0-4a05-c2bf-87cf7d32c7ab",
        "colab": {
          "base_uri": "https://localhost:8080/",
          "height": 68
        }
      },
      "cell_type": "code",
      "source": [
        "timesteps = len(x_train[0])\n",
        "input_dim = len(x_train[0][0])\n",
        "n_classes = _count_classes(y_train)\n",
        "\n",
        "print(timesteps)\n",
        "print(input_dim)\n",
        "print(len(X_train))"
      ],
      "execution_count": 0,
      "outputs": [
        {
          "output_type": "stream",
          "text": [
            "128\n",
            "9\n",
            "7352\n"
          ],
          "name": "stdout"
        }
      ]
    },
    {
      "metadata": {
        "id": "ujrTKFHJyhiH",
        "colab_type": "text"
      },
      "cell_type": "markdown",
      "source": [
        "### Model 1 :: Defining the Architecture of LSTM\n",
        "#### LSTM ==>  Batchsize(16) - n_hidden(32) - epochs(30) - optimizer('rmsprop')"
      ]
    },
    {
      "metadata": {
        "id": "sF-F8qDMxo8w",
        "colab_type": "code",
        "outputId": "5964d1c9-70fb-44d8-f0f5-9ae9c04ebeee",
        "colab": {
          "base_uri": "https://localhost:8080/",
          "height": 360
        }
      },
      "cell_type": "code",
      "source": [
        "# Initiliazing the sequential model\n",
        "model = Sequential()\n",
        "# Configuring the parameters\n",
        "model.add(LSTM(n_hidden, input_shape=(timesteps, input_dim)))\n",
        "# Adding a dropout layer\n",
        "model.add(Dropout(0.5))\n",
        "# Adding a dense output layer with sigmoid activation\n",
        "model.add(Dense(n_classes, activation='sigmoid'))\n",
        "model.summary()"
      ],
      "execution_count": 0,
      "outputs": [
        {
          "output_type": "stream",
          "text": [
            "WARNING:tensorflow:From /usr/local/lib/python3.6/dist-packages/tensorflow/python/framework/op_def_library.py:263: colocate_with (from tensorflow.python.framework.ops) is deprecated and will be removed in a future version.\n",
            "Instructions for updating:\n",
            "Colocations handled automatically by placer.\n",
            "WARNING:tensorflow:From /usr/local/lib/python3.6/dist-packages/keras/backend/tensorflow_backend.py:3445: calling dropout (from tensorflow.python.ops.nn_ops) with keep_prob is deprecated and will be removed in a future version.\n",
            "Instructions for updating:\n",
            "Please use `rate` instead of `keep_prob`. Rate should be set to `rate = 1 - keep_prob`.\n",
            "_________________________________________________________________\n",
            "Layer (type)                 Output Shape              Param #   \n",
            "=================================================================\n",
            "lstm_1 (LSTM)                (None, 32)                5376      \n",
            "_________________________________________________________________\n",
            "dropout_1 (Dropout)          (None, 32)                0         \n",
            "_________________________________________________________________\n",
            "dense_1 (Dense)              (None, 6)                 198       \n",
            "=================================================================\n",
            "Total params: 5,574\n",
            "Trainable params: 5,574\n",
            "Non-trainable params: 0\n",
            "_________________________________________________________________\n"
          ],
          "name": "stdout"
        }
      ]
    },
    {
      "metadata": {
        "id": "TKGC1Bllymco",
        "colab_type": "text"
      },
      "cell_type": "markdown",
      "source": [
        "### Compiling Model"
      ]
    },
    {
      "metadata": {
        "id": "EyxG8Hm-xtuO",
        "colab_type": "code",
        "colab": {}
      },
      "cell_type": "code",
      "source": [
        "# Compiling the model\n",
        "model.compile(loss='categorical_crossentropy',\n",
        "              optimizer='rmsprop',\n",
        "              metrics=['accuracy'])"
      ],
      "execution_count": 0,
      "outputs": []
    },
    {
      "metadata": {
        "id": "LvjJVaIJytIe",
        "colab_type": "text"
      },
      "cell_type": "markdown",
      "source": [
        "### Fit the model with data"
      ]
    },
    {
      "metadata": {
        "id": "8wNQyQGVx0Tm",
        "colab_type": "code",
        "outputId": "ee941fe3-fe10-4e1e-e18b-2fb44923b4c9",
        "colab": {
          "base_uri": "https://localhost:8080/",
          "height": 1142
        }
      },
      "cell_type": "code",
      "source": [
        "# Training the model\n",
        "model.fit(x_train,\n",
        "          y_train,\n",
        "          batch_size=batch_size,\n",
        "          validation_data=(x_test, y_test),\n",
        "          epochs=epochs)"
      ],
      "execution_count": 0,
      "outputs": [
        {
          "output_type": "stream",
          "text": [
            "WARNING:tensorflow:From /usr/local/lib/python3.6/dist-packages/tensorflow/python/ops/math_ops.py:3066: to_int32 (from tensorflow.python.ops.math_ops) is deprecated and will be removed in a future version.\n",
            "Instructions for updating:\n",
            "Use tf.cast instead.\n",
            "Train on 7352 samples, validate on 2947 samples\n",
            "Epoch 1/30\n",
            "7352/7352 [==============================] - 32s 4ms/step - loss: 1.3407 - acc: 0.4446 - val_loss: 1.2371 - val_acc: 0.4499\n",
            "Epoch 2/30\n",
            "7352/7352 [==============================] - 30s 4ms/step - loss: 1.0163 - acc: 0.5499 - val_loss: 0.9499 - val_acc: 0.5786\n",
            "Epoch 3/30\n",
            "7352/7352 [==============================] - 30s 4ms/step - loss: 0.8186 - acc: 0.6439 - val_loss: 0.7760 - val_acc: 0.6159\n",
            "Epoch 4/30\n",
            "7352/7352 [==============================] - 30s 4ms/step - loss: 0.6821 - acc: 0.6877 - val_loss: 0.7513 - val_acc: 0.6922\n",
            "Epoch 5/30\n",
            "7352/7352 [==============================] - 31s 4ms/step - loss: 0.6108 - acc: 0.7323 - val_loss: 0.7069 - val_acc: 0.7190\n",
            "Epoch 6/30\n",
            "7352/7352 [==============================] - 31s 4ms/step - loss: 0.5607 - acc: 0.7678 - val_loss: 0.7870 - val_acc: 0.6675\n",
            "Epoch 7/30\n",
            "7352/7352 [==============================] - 32s 4ms/step - loss: 0.5035 - acc: 0.7930 - val_loss: 0.7386 - val_acc: 0.7122\n",
            "Epoch 8/30\n",
            "7352/7352 [==============================] - 31s 4ms/step - loss: 0.4477 - acc: 0.8232 - val_loss: 0.5959 - val_acc: 0.7852\n",
            "Epoch 9/30\n",
            "7352/7352 [==============================] - 30s 4ms/step - loss: 0.4027 - acc: 0.8589 - val_loss: 0.5584 - val_acc: 0.8514\n",
            "Epoch 10/30\n",
            "7352/7352 [==============================] - 31s 4ms/step - loss: 0.3463 - acc: 0.8931 - val_loss: 0.5884 - val_acc: 0.8378\n",
            "Epoch 11/30\n",
            "7352/7352 [==============================] - 30s 4ms/step - loss: 0.2659 - acc: 0.9183 - val_loss: 0.5026 - val_acc: 0.8741\n",
            "Epoch 12/30\n",
            "7352/7352 [==============================] - 30s 4ms/step - loss: 0.2437 - acc: 0.9259 - val_loss: 0.4746 - val_acc: 0.8782\n",
            "Epoch 13/30\n",
            "7352/7352 [==============================] - 31s 4ms/step - loss: 0.2204 - acc: 0.9291 - val_loss: 0.5735 - val_acc: 0.8741\n",
            "Epoch 14/30\n",
            "7352/7352 [==============================] - 31s 4ms/step - loss: 0.2325 - acc: 0.9308 - val_loss: 0.5100 - val_acc: 0.8870\n",
            "Epoch 15/30\n",
            "7352/7352 [==============================] - 31s 4ms/step - loss: 0.1982 - acc: 0.9340 - val_loss: 0.4421 - val_acc: 0.9023\n",
            "Epoch 16/30\n",
            "7352/7352 [==============================] - 31s 4ms/step - loss: 0.1995 - acc: 0.9361 - val_loss: 0.4106 - val_acc: 0.8951\n",
            "Epoch 17/30\n",
            "7352/7352 [==============================] - 31s 4ms/step - loss: 0.1891 - acc: 0.9397 - val_loss: 0.4351 - val_acc: 0.8911\n",
            "Epoch 18/30\n",
            "7352/7352 [==============================] - 31s 4ms/step - loss: 0.1793 - acc: 0.9442 - val_loss: 0.5344 - val_acc: 0.8741\n",
            "Epoch 19/30\n",
            "7352/7352 [==============================] - 31s 4ms/step - loss: 0.1826 - acc: 0.9384 - val_loss: 0.3620 - val_acc: 0.9002\n",
            "Epoch 20/30\n",
            "7352/7352 [==============================] - 30s 4ms/step - loss: 0.1699 - acc: 0.9430 - val_loss: 0.5131 - val_acc: 0.8643\n",
            "Epoch 21/30\n",
            "7352/7352 [==============================] - 31s 4ms/step - loss: 0.1635 - acc: 0.9411 - val_loss: 0.3672 - val_acc: 0.8951\n",
            "Epoch 22/30\n",
            "7352/7352 [==============================] - 30s 4ms/step - loss: 0.1696 - acc: 0.9421 - val_loss: 0.3934 - val_acc: 0.9043\n",
            "Epoch 23/30\n",
            "7352/7352 [==============================] - 30s 4ms/step - loss: 0.1689 - acc: 0.9453 - val_loss: 0.4160 - val_acc: 0.8921\n",
            "Epoch 24/30\n",
            "7352/7352 [==============================] - 30s 4ms/step - loss: 0.1520 - acc: 0.9482 - val_loss: 0.3932 - val_acc: 0.8972\n",
            "Epoch 25/30\n",
            "7352/7352 [==============================] - 30s 4ms/step - loss: 0.1543 - acc: 0.9486 - val_loss: 0.4313 - val_acc: 0.8938\n",
            "Epoch 26/30\n",
            "7352/7352 [==============================] - 31s 4ms/step - loss: 0.1718 - acc: 0.9444 - val_loss: 0.4254 - val_acc: 0.8928\n",
            "Epoch 27/30\n",
            "7352/7352 [==============================] - 31s 4ms/step - loss: 0.1620 - acc: 0.9484 - val_loss: 0.4403 - val_acc: 0.8894\n",
            "Epoch 28/30\n",
            "7352/7352 [==============================] - 32s 4ms/step - loss: 0.1551 - acc: 0.9476 - val_loss: 0.4360 - val_acc: 0.8962\n",
            "Epoch 29/30\n",
            "7352/7352 [==============================] - 31s 4ms/step - loss: 0.1505 - acc: 0.9467 - val_loss: 0.4254 - val_acc: 0.9046\n",
            "Epoch 30/30\n",
            "7352/7352 [==============================] - 31s 4ms/step - loss: 0.1685 - acc: 0.9483 - val_loss: 0.5401 - val_acc: 0.8785\n"
          ],
          "name": "stdout"
        },
        {
          "output_type": "execute_result",
          "data": {
            "text/plain": [
              "<keras.callbacks.History at 0x7f7b40cb5cf8>"
            ]
          },
          "metadata": {
            "tags": []
          },
          "execution_count": 34
        }
      ]
    },
    {
      "metadata": {
        "id": "cIiodYMNxsde",
        "colab_type": "text"
      },
      "cell_type": "markdown",
      "source": [
        "### MOdel2 ::  Defining the Architecture of LSTM\n",
        "#### LSTM ==>  Batchsize(128) - n_hidden(32) - epochs(30) - Dropout(0.7) -  optimizer(Adam(lr=1e-3))"
      ]
    },
    {
      "metadata": {
        "id": "nugxXZym6Xc7",
        "colab_type": "code",
        "outputId": "153284a7-d6ec-449a-f8a6-be4e1e7c222f",
        "colab": {
          "base_uri": "https://localhost:8080/",
          "height": 1244
        }
      },
      "cell_type": "code",
      "source": [
        "#'categorical_crossentropy'\n",
        "model = Sequential()\n",
        "model.add(LSTM(32, input_shape=(128,9)))\n",
        "model.add(Dropout(0.7))\n",
        "#model.add(LSTM(32))\n",
        "model.add(Dense(6, activation='sigmoid'))\n",
        "        \n",
        "adam=Adam(lr=1e-3)\n",
        "model.compile(optimizer=adam , loss='categorical_crossentropy' ,metrics=['accuracy'])\n",
        "\n",
        "model.fit(x_train, y_train,batch_size=128,epochs=30,validation_split=0.2)"
      ],
      "execution_count": 0,
      "outputs": [
        {
          "output_type": "stream",
          "text": [
            "WARNING:tensorflow:From /usr/local/lib/python3.6/dist-packages/tensorflow/python/framework/op_def_library.py:263: colocate_with (from tensorflow.python.framework.ops) is deprecated and will be removed in a future version.\n",
            "Instructions for updating:\n",
            "Colocations handled automatically by placer.\n",
            "WARNING:tensorflow:From /usr/local/lib/python3.6/dist-packages/keras/backend/tensorflow_backend.py:3445: calling dropout (from tensorflow.python.ops.nn_ops) with keep_prob is deprecated and will be removed in a future version.\n",
            "Instructions for updating:\n",
            "Please use `rate` instead of `keep_prob`. Rate should be set to `rate = 1 - keep_prob`.\n",
            "WARNING:tensorflow:From /usr/local/lib/python3.6/dist-packages/tensorflow/python/ops/math_ops.py:3066: to_int32 (from tensorflow.python.ops.math_ops) is deprecated and will be removed in a future version.\n",
            "Instructions for updating:\n",
            "Use tf.cast instead.\n",
            "Train on 5881 samples, validate on 1471 samples\n",
            "Epoch 1/30\n",
            "5881/5881 [==============================] - 7s 1ms/step - loss: 1.7082 - acc: 0.3253 - val_loss: 1.5886 - val_acc: 0.4058\n",
            "Epoch 2/30\n",
            "5881/5881 [==============================] - 6s 956us/step - loss: 1.4924 - acc: 0.3969 - val_loss: 1.3854 - val_acc: 0.3929\n",
            "Epoch 3/30\n",
            "5881/5881 [==============================] - 6s 955us/step - loss: 1.3622 - acc: 0.4435 - val_loss: 1.2874 - val_acc: 0.4208\n",
            "Epoch 4/30\n",
            "5881/5881 [==============================] - 6s 949us/step - loss: 1.3107 - acc: 0.4557 - val_loss: 1.2388 - val_acc: 0.4765\n",
            "Epoch 5/30\n",
            "5881/5881 [==============================] - 6s 940us/step - loss: 1.2515 - acc: 0.4827 - val_loss: 1.2165 - val_acc: 0.4562\n",
            "Epoch 6/30\n",
            "5881/5881 [==============================] - 6s 950us/step - loss: 1.1988 - acc: 0.4766 - val_loss: 1.1709 - val_acc: 0.4697\n",
            "Epoch 7/30\n",
            "5881/5881 [==============================] - 6s 955us/step - loss: 1.2546 - acc: 0.4363 - val_loss: 1.3283 - val_acc: 0.3481\n",
            "Epoch 8/30\n",
            "5881/5881 [==============================] - 6s 972us/step - loss: 1.2355 - acc: 0.4411 - val_loss: 1.1866 - val_acc: 0.3977\n",
            "Epoch 9/30\n",
            "5881/5881 [==============================] - 5s 935us/step - loss: 1.1492 - acc: 0.5132 - val_loss: 1.1264 - val_acc: 0.5235\n",
            "Epoch 10/30\n",
            "5881/5881 [==============================] - 6s 964us/step - loss: 1.0861 - acc: 0.5576 - val_loss: 1.0474 - val_acc: 0.5758\n",
            "Epoch 11/30\n",
            "5881/5881 [==============================] - 6s 1ms/step - loss: 1.0471 - acc: 0.5615 - val_loss: 1.0352 - val_acc: 0.5547\n",
            "Epoch 12/30\n",
            "5881/5881 [==============================] - 6s 953us/step - loss: 1.0442 - acc: 0.5412 - val_loss: 1.0913 - val_acc: 0.5384\n",
            "Epoch 13/30\n",
            "5881/5881 [==============================] - 6s 951us/step - loss: 1.0465 - acc: 0.5428 - val_loss: 1.0911 - val_acc: 0.5574\n",
            "Epoch 14/30\n",
            "5881/5881 [==============================] - 6s 947us/step - loss: 1.0228 - acc: 0.5355 - val_loss: 1.0532 - val_acc: 0.5282\n",
            "Epoch 15/30\n",
            "5881/5881 [==============================] - 6s 944us/step - loss: 1.0278 - acc: 0.5304 - val_loss: 1.0790 - val_acc: 0.5139\n",
            "Epoch 16/30\n",
            "5881/5881 [==============================] - 6s 936us/step - loss: 1.0180 - acc: 0.5288 - val_loss: 1.0557 - val_acc: 0.5404\n",
            "Epoch 17/30\n",
            "5881/5881 [==============================] - 6s 953us/step - loss: 1.0629 - acc: 0.5271 - val_loss: 1.2405 - val_acc: 0.4854\n",
            "Epoch 18/30\n",
            "5881/5881 [==============================] - 6s 940us/step - loss: 1.1521 - acc: 0.4982 - val_loss: 1.2217 - val_acc: 0.4779\n",
            "Epoch 19/30\n",
            "5881/5881 [==============================] - 6s 945us/step - loss: 1.0763 - acc: 0.5088 - val_loss: 1.0951 - val_acc: 0.5194\n",
            "Epoch 20/30\n",
            "5881/5881 [==============================] - 6s 951us/step - loss: 1.0137 - acc: 0.5338 - val_loss: 1.0105 - val_acc: 0.5840\n",
            "Epoch 21/30\n",
            "5881/5881 [==============================] - 6s 974us/step - loss: 0.9950 - acc: 0.5463 - val_loss: 1.0115 - val_acc: 0.6111\n",
            "Epoch 22/30\n",
            "5881/5881 [==============================] - 6s 960us/step - loss: 1.0801 - acc: 0.5099 - val_loss: 1.2148 - val_acc: 0.4616\n",
            "Epoch 23/30\n",
            "5881/5881 [==============================] - 6s 966us/step - loss: 1.0686 - acc: 0.5113 - val_loss: 1.0680 - val_acc: 0.5085\n",
            "Epoch 24/30\n",
            "5881/5881 [==============================] - 6s 953us/step - loss: 1.0231 - acc: 0.5343 - val_loss: 1.0435 - val_acc: 0.5459\n",
            "Epoch 25/30\n",
            "5881/5881 [==============================] - 6s 956us/step - loss: 1.0094 - acc: 0.5361 - val_loss: 1.0361 - val_acc: 0.5506\n",
            "Epoch 26/30\n",
            "5881/5881 [==============================] - 6s 979us/step - loss: 1.0008 - acc: 0.5331 - val_loss: 1.0292 - val_acc: 0.5595\n",
            "Epoch 27/30\n",
            "5881/5881 [==============================] - 6s 980us/step - loss: 0.9902 - acc: 0.5443 - val_loss: 1.0226 - val_acc: 0.5690\n",
            "Epoch 28/30\n",
            "5881/5881 [==============================] - 6s 981us/step - loss: 0.9829 - acc: 0.5511 - val_loss: 1.0275 - val_acc: 0.5731\n",
            "Epoch 29/30\n",
            "5881/5881 [==============================] - 6s 967us/step - loss: 0.9918 - acc: 0.5491 - val_loss: 1.0382 - val_acc: 0.5744\n",
            "Epoch 30/30\n",
            "5881/5881 [==============================] - 6s 966us/step - loss: 0.9776 - acc: 0.5531 - val_loss: 1.0182 - val_acc: 0.5744\n"
          ],
          "name": "stdout"
        },
        {
          "output_type": "execute_result",
          "data": {
            "text/plain": [
              "<keras.callbacks.History at 0x7fcb6598ee10>"
            ]
          },
          "metadata": {
            "tags": []
          },
          "execution_count": 21
        }
      ]
    },
    {
      "metadata": {
        "id": "jpx9PoPKz1gR",
        "colab_type": "text"
      },
      "cell_type": "markdown",
      "source": [
        "### Model 3 :\n",
        "### Defining the Architecture of LSTM\n",
        "#### LSTM ==> Batchsize(8) - n_hidden(32) - epochs(30) - Dropout(0.7) - optimizer(Adam(lr=1e-3))"
      ]
    },
    {
      "metadata": {
        "id": "7ck9zhcl7B3o",
        "colab_type": "code",
        "outputId": "a3f3d7f8-709a-43fc-8233-1ae81d669fb7",
        "colab": {
          "base_uri": "https://localhost:8080/",
          "height": 1071
        }
      },
      "cell_type": "code",
      "source": [
        "#'categorical_crossentropy'\n",
        "model = Sequential()\n",
        "model.add(LSTM(32, input_shape=(128,9)))\n",
        "model.add(Dropout(0.7))\n",
        "#model.add(LSTM(32))\n",
        "model.add(Dense(6, activation='sigmoid'))\n",
        "        \n",
        "adam=Adam(lr=1e-3)\n",
        "model.compile(optimizer=adam , loss='categorical_crossentropy' ,metrics=['accuracy'])\n",
        "\n",
        "model.fit(x_train, y_train,batch_size=8,epochs=30,validation_split=0.2)"
      ],
      "execution_count": 0,
      "outputs": [
        {
          "output_type": "stream",
          "text": [
            "Train on 5881 samples, validate on 1471 samples\n",
            "Epoch 1/30\n",
            "5881/5881 [==============================] - 45s 8ms/step - loss: 1.3928 - acc: 0.4027 - val_loss: 1.1749 - val_acc: 0.4908\n",
            "Epoch 2/30\n",
            "5881/5881 [==============================] - 45s 8ms/step - loss: 1.2162 - acc: 0.4669 - val_loss: 1.2209 - val_acc: 0.4398\n",
            "Epoch 3/30\n",
            "5881/5881 [==============================] - 44s 8ms/step - loss: 1.2488 - acc: 0.4520 - val_loss: 1.1821 - val_acc: 0.5105\n",
            "Epoch 4/30\n",
            "5881/5881 [==============================] - 44s 7ms/step - loss: 1.0865 - acc: 0.5037 - val_loss: 1.0114 - val_acc: 0.5744\n",
            "Epoch 5/30\n",
            "5881/5881 [==============================] - 44s 8ms/step - loss: 1.0081 - acc: 0.5453 - val_loss: 0.9720 - val_acc: 0.5772\n",
            "Epoch 6/30\n",
            "5881/5881 [==============================] - 43s 7ms/step - loss: 0.8947 - acc: 0.5984 - val_loss: 0.9200 - val_acc: 0.5472\n",
            "Epoch 7/30\n",
            "5881/5881 [==============================] - 44s 7ms/step - loss: 0.8068 - acc: 0.6446 - val_loss: 0.8239 - val_acc: 0.6349\n",
            "Epoch 8/30\n",
            "5881/5881 [==============================] - 44s 7ms/step - loss: 0.7787 - acc: 0.6564 - val_loss: 0.8456 - val_acc: 0.6268\n",
            "Epoch 9/30\n",
            "5881/5881 [==============================] - 44s 7ms/step - loss: 0.8227 - acc: 0.6348 - val_loss: 0.9181 - val_acc: 0.6084\n",
            "Epoch 10/30\n",
            "5881/5881 [==============================] - 44s 7ms/step - loss: 0.8778 - acc: 0.6079 - val_loss: 0.9943 - val_acc: 0.5955\n",
            "Epoch 11/30\n",
            "5881/5881 [==============================] - 43s 7ms/step - loss: 0.8129 - acc: 0.6196 - val_loss: 0.9104 - val_acc: 0.6139\n",
            "Epoch 12/30\n",
            "5881/5881 [==============================] - 43s 7ms/step - loss: 0.7272 - acc: 0.6545 - val_loss: 0.8843 - val_acc: 0.6132\n",
            "Epoch 13/30\n",
            "5881/5881 [==============================] - 45s 8ms/step - loss: 0.9308 - acc: 0.5888 - val_loss: 0.9767 - val_acc: 0.6016\n",
            "Epoch 14/30\n",
            "5881/5881 [==============================] - 44s 7ms/step - loss: 0.7175 - acc: 0.6586 - val_loss: 1.0015 - val_acc: 0.5996\n",
            "Epoch 15/30\n",
            "5881/5881 [==============================] - 43s 7ms/step - loss: 0.6830 - acc: 0.6652 - val_loss: 0.9470 - val_acc: 0.6098\n",
            "Epoch 16/30\n",
            "5881/5881 [==============================] - 43s 7ms/step - loss: 0.6851 - acc: 0.6620 - val_loss: 1.1741 - val_acc: 0.5778\n",
            "Epoch 17/30\n",
            "5881/5881 [==============================] - 44s 8ms/step - loss: 0.6497 - acc: 0.6946 - val_loss: 0.8996 - val_acc: 0.6111\n",
            "Epoch 18/30\n",
            "5881/5881 [==============================] - 44s 7ms/step - loss: 0.6564 - acc: 0.6822 - val_loss: 0.9150 - val_acc: 0.5935\n",
            "Epoch 19/30\n",
            "5881/5881 [==============================] - 44s 8ms/step - loss: 0.6327 - acc: 0.6898 - val_loss: 0.8584 - val_acc: 0.6363\n",
            "Epoch 20/30\n",
            "5881/5881 [==============================] - 44s 7ms/step - loss: 0.6201 - acc: 0.7114 - val_loss: 0.8677 - val_acc: 0.6295\n",
            "Epoch 21/30\n",
            "5881/5881 [==============================] - 43s 7ms/step - loss: 0.7752 - acc: 0.6803 - val_loss: 0.8598 - val_acc: 0.6499\n",
            "Epoch 22/30\n",
            "5881/5881 [==============================] - 43s 7ms/step - loss: 0.6201 - acc: 0.7239 - val_loss: 0.8530 - val_acc: 0.7104\n",
            "Epoch 23/30\n",
            "5881/5881 [==============================] - 43s 7ms/step - loss: 0.5648 - acc: 0.7601 - val_loss: 0.8330 - val_acc: 0.7260\n",
            "Epoch 24/30\n",
            "5881/5881 [==============================] - 42s 7ms/step - loss: 0.5693 - acc: 0.7551 - val_loss: 0.8711 - val_acc: 0.7818\n",
            "Epoch 25/30\n",
            "5881/5881 [==============================] - 43s 7ms/step - loss: 0.5659 - acc: 0.7847 - val_loss: 0.8535 - val_acc: 0.7811\n",
            "Epoch 26/30\n",
            "5881/5881 [==============================] - 43s 7ms/step - loss: 0.5545 - acc: 0.8063 - val_loss: 0.8992 - val_acc: 0.8008\n",
            "Epoch 27/30\n",
            "5881/5881 [==============================] - 43s 7ms/step - loss: 0.5395 - acc: 0.8332 - val_loss: 0.6885 - val_acc: 0.8579\n",
            "Epoch 28/30\n",
            "5881/5881 [==============================] - 42s 7ms/step - loss: 0.4328 - acc: 0.8592 - val_loss: 0.6666 - val_acc: 0.8572\n",
            "Epoch 29/30\n",
            "5881/5881 [==============================] - 43s 7ms/step - loss: 0.3925 - acc: 0.8828 - val_loss: 0.5740 - val_acc: 0.8756\n",
            "Epoch 30/30\n",
            "5881/5881 [==============================] - 43s 7ms/step - loss: 0.3341 - acc: 0.9022 - val_loss: 0.5777 - val_acc: 0.8708\n"
          ],
          "name": "stdout"
        },
        {
          "output_type": "execute_result",
          "data": {
            "text/plain": [
              "<keras.callbacks.History at 0x7fcb64544a58>"
            ]
          },
          "metadata": {
            "tags": []
          },
          "execution_count": 22
        }
      ]
    },
    {
      "metadata": {
        "id": "eAf63F6k0K8T",
        "colab_type": "text"
      },
      "cell_type": "markdown",
      "source": [
        "## Hyperparameter Tuning on LSTM Model using  TALOS Library"
      ]
    },
    {
      "metadata": {
        "id": "MwRF7UCOBf7g",
        "colab_type": "code",
        "colab": {}
      },
      "cell_type": "code",
      "source": [
        "!pip install talos\n",
        "import talos as ta"
      ],
      "execution_count": 0,
      "outputs": []
    },
    {
      "metadata": {
        "id": "THv8xGu08WJQ",
        "colab_type": "code",
        "colab": {}
      },
      "cell_type": "code",
      "source": [
        "def create_model(x_train, y_train, x_test, y_test, params):\n",
        "        \n",
        "        model = Sequential()\n",
        "        model.add(LSTM(params['units'],return_sequences=True, input_shape=(128,9)))\n",
        "        model.add(Dropout(params['Dropout']))\n",
        "        model.add(LSTM(32))\n",
        "        model.add(Dense(6, activation='sigmoid'))\n",
        "        \n",
        "        adam=Adam(lr=1e-3)\n",
        "        model.compile(optimizer=adam , loss='categorical_crossentropy' ,metrics=['accuracy'])\n",
        "\n",
        "        out = model.fit(x_train, y_train,batch_size=16,epochs=30,validation_data=(x_test, y_test))\n",
        "\n",
        "        return out, model"
      ],
      "execution_count": 0,
      "outputs": []
    },
    {
      "metadata": {
        "id": "511eFwsJAM00",
        "colab_type": "code",
        "outputId": "07f345f6-3904-4e06-ef80-10fcf9cfffb5",
        "colab": {
          "base_uri": "https://localhost:8080/",
          "height": 9537
        }
      },
      "cell_type": "code",
      "source": [
        "p = {'units' : [32,64,128],\n",
        "         'Dropout' : [0.5,0.7,0.8] \n",
        "     } \n",
        "\n",
        "scan_object = ta.Scan(x_train, y_train, params=p, model=create_model)"
      ],
      "execution_count": 0,
      "outputs": [
        {
          "output_type": "stream",
          "text": [
            "\n",
            "  0%|          | 0/9 [00:00<?, ?it/s]\u001b[A"
          ],
          "name": "stderr"
        },
        {
          "output_type": "stream",
          "text": [
            "Train on 5146 samples, validate on 2206 samples\n",
            "Epoch 1/30\n",
            "5146/5146 [==============================] - 49s 10ms/step - loss: 1.3987 - acc: 0.3747 - val_loss: 1.3188 - val_acc: 0.4524\n",
            "Epoch 2/30\n",
            "5146/5146 [==============================] - 47s 9ms/step - loss: 1.2715 - acc: 0.4279 - val_loss: 1.3722 - val_acc: 0.3259\n",
            "Epoch 3/30\n",
            "5146/5146 [==============================] - 47s 9ms/step - loss: 1.3612 - acc: 0.3671 - val_loss: 1.3402 - val_acc: 0.4937\n",
            "Epoch 4/30\n",
            "5146/5146 [==============================] - 47s 9ms/step - loss: 1.3367 - acc: 0.3760 - val_loss: 1.3218 - val_acc: 0.3604\n",
            "Epoch 5/30\n",
            "5146/5146 [==============================] - 47s 9ms/step - loss: 1.3010 - acc: 0.4155 - val_loss: 1.2233 - val_acc: 0.4651\n",
            "Epoch 6/30\n",
            "5146/5146 [==============================] - 48s 9ms/step - loss: 1.0864 - acc: 0.5346 - val_loss: 0.8135 - val_acc: 0.6704\n",
            "Epoch 7/30\n",
            "5146/5146 [==============================] - 47s 9ms/step - loss: 0.7582 - acc: 0.6504 - val_loss: 0.6672 - val_acc: 0.6677\n",
            "Epoch 8/30\n",
            "5146/5146 [==============================] - 47s 9ms/step - loss: 0.6463 - acc: 0.7087 - val_loss: 0.6427 - val_acc: 0.7108\n",
            "Epoch 9/30\n",
            "5146/5146 [==============================] - 47s 9ms/step - loss: 0.6214 - acc: 0.7256 - val_loss: 0.6054 - val_acc: 0.7353\n",
            "Epoch 10/30\n",
            "5146/5146 [==============================] - 47s 9ms/step - loss: 0.5529 - acc: 0.7567 - val_loss: 0.5202 - val_acc: 0.7312\n",
            "Epoch 11/30\n",
            "5146/5146 [==============================] - 46s 9ms/step - loss: 0.4304 - acc: 0.8434 - val_loss: 0.3440 - val_acc: 0.8858\n",
            "Epoch 12/30\n",
            "5146/5146 [==============================] - 46s 9ms/step - loss: 0.2398 - acc: 0.9229 - val_loss: 0.2499 - val_acc: 0.9257\n",
            "Epoch 13/30\n",
            "5146/5146 [==============================] - 48s 9ms/step - loss: 0.2072 - acc: 0.9308 - val_loss: 0.2348 - val_acc: 0.8930\n",
            "Epoch 14/30\n",
            "5146/5146 [==============================] - 48s 9ms/step - loss: 0.1815 - acc: 0.9355 - val_loss: 0.1816 - val_acc: 0.9429\n",
            "Epoch 15/30\n",
            "5146/5146 [==============================] - 47s 9ms/step - loss: 0.1449 - acc: 0.9483 - val_loss: 0.1625 - val_acc: 0.9334\n",
            "Epoch 16/30\n",
            "5146/5146 [==============================] - 47s 9ms/step - loss: 0.1957 - acc: 0.9300 - val_loss: 0.1757 - val_acc: 0.9365\n",
            "Epoch 17/30\n",
            "5146/5146 [==============================] - 46s 9ms/step - loss: 0.1601 - acc: 0.9417 - val_loss: 0.2000 - val_acc: 0.9202\n",
            "Epoch 18/30\n",
            "5146/5146 [==============================] - 46s 9ms/step - loss: 0.1465 - acc: 0.9435 - val_loss: 0.1524 - val_acc: 0.9306\n",
            "Epoch 19/30\n",
            "5146/5146 [==============================] - 47s 9ms/step - loss: 0.1406 - acc: 0.9458 - val_loss: 0.1805 - val_acc: 0.9347\n",
            "Epoch 20/30\n",
            "5146/5146 [==============================] - 47s 9ms/step - loss: 0.1326 - acc: 0.9497 - val_loss: 0.1404 - val_acc: 0.9397\n",
            "Epoch 21/30\n",
            "5146/5146 [==============================] - 46s 9ms/step - loss: 0.1277 - acc: 0.9485 - val_loss: 0.1390 - val_acc: 0.9492\n",
            "Epoch 22/30\n",
            "5146/5146 [==============================] - 46s 9ms/step - loss: 0.1165 - acc: 0.9536 - val_loss: 0.1363 - val_acc: 0.9424\n",
            "Epoch 23/30\n",
            "5146/5146 [==============================] - 46s 9ms/step - loss: 0.1183 - acc: 0.9524 - val_loss: 0.1265 - val_acc: 0.9533\n",
            "Epoch 24/30\n",
            "5146/5146 [==============================] - 46s 9ms/step - loss: 0.1263 - acc: 0.9510 - val_loss: 0.5174 - val_acc: 0.8821\n",
            "Epoch 25/30\n",
            "5146/5146 [==============================] - 46s 9ms/step - loss: 0.1540 - acc: 0.9438 - val_loss: 0.1346 - val_acc: 0.9542\n",
            "Epoch 26/30\n",
            "5146/5146 [==============================] - 46s 9ms/step - loss: 0.1563 - acc: 0.9403 - val_loss: 0.1679 - val_acc: 0.9379\n",
            "Epoch 27/30\n",
            "5146/5146 [==============================] - 48s 9ms/step - loss: 0.1417 - acc: 0.9493 - val_loss: 0.1371 - val_acc: 0.9442\n",
            "Epoch 28/30\n",
            "5146/5146 [==============================] - 47s 9ms/step - loss: 0.1238 - acc: 0.9522 - val_loss: 0.1276 - val_acc: 0.9556\n",
            "Epoch 29/30\n",
            "5146/5146 [==============================] - 47s 9ms/step - loss: 0.1216 - acc: 0.9528 - val_loss: 0.1581 - val_acc: 0.9311\n",
            "Epoch 30/30\n",
            "5146/5146 [==============================] - 47s 9ms/step - loss: 0.1165 - acc: 0.9549 - val_loss: 0.1301 - val_acc: 0.9538\n"
          ],
          "name": "stdout"
        },
        {
          "output_type": "stream",
          "text": [
            "\n",
            " 11%|█         | 1/9 [23:26<3:07:34, 1406.86s/it]\u001b[A"
          ],
          "name": "stderr"
        },
        {
          "output_type": "stream",
          "text": [
            "Train on 5146 samples, validate on 2206 samples\n",
            "Epoch 1/30\n",
            "5146/5146 [==============================] - 48s 9ms/step - loss: 1.3160 - acc: 0.4438 - val_loss: 1.1747 - val_acc: 0.4723\n",
            "Epoch 2/30\n",
            "5146/5146 [==============================] - 47s 9ms/step - loss: 1.0634 - acc: 0.5394 - val_loss: 1.0002 - val_acc: 0.5861\n",
            "Epoch 3/30\n",
            "5146/5146 [==============================] - 47s 9ms/step - loss: 0.9715 - acc: 0.5733 - val_loss: 0.8456 - val_acc: 0.5970\n",
            "Epoch 4/30\n",
            "5146/5146 [==============================] - 47s 9ms/step - loss: 0.6749 - acc: 0.7258 - val_loss: 0.5701 - val_acc: 0.7539\n",
            "Epoch 5/30\n",
            "5146/5146 [==============================] - 47s 9ms/step - loss: 0.4962 - acc: 0.7719 - val_loss: 0.7095 - val_acc: 0.6587\n",
            "Epoch 6/30\n",
            "5146/5146 [==============================] - 46s 9ms/step - loss: 0.4515 - acc: 0.8140 - val_loss: 0.3693 - val_acc: 0.9112\n",
            "Epoch 7/30\n",
            "5146/5146 [==============================] - 46s 9ms/step - loss: 0.2963 - acc: 0.9162 - val_loss: 0.2421 - val_acc: 0.9306\n",
            "Epoch 8/30\n",
            "5146/5146 [==============================] - 47s 9ms/step - loss: 0.3033 - acc: 0.8972 - val_loss: 0.2924 - val_acc: 0.9080\n",
            "Epoch 9/30\n",
            "5146/5146 [==============================] - 46s 9ms/step - loss: 0.2861 - acc: 0.9067 - val_loss: 0.2154 - val_acc: 0.9361\n",
            "Epoch 10/30\n",
            "5146/5146 [==============================] - 47s 9ms/step - loss: 0.2144 - acc: 0.9293 - val_loss: 0.2242 - val_acc: 0.9257\n",
            "Epoch 11/30\n",
            "5146/5146 [==============================] - 46s 9ms/step - loss: 0.2061 - acc: 0.9332 - val_loss: 0.1584 - val_acc: 0.9429\n",
            "Epoch 12/30\n",
            "5146/5146 [==============================] - 47s 9ms/step - loss: 0.1615 - acc: 0.9425 - val_loss: 0.1574 - val_acc: 0.9383\n",
            "Epoch 13/30\n",
            "5146/5146 [==============================] - 46s 9ms/step - loss: 0.1331 - acc: 0.9530 - val_loss: 0.1801 - val_acc: 0.9388\n",
            "Epoch 14/30\n",
            "5146/5146 [==============================] - 46s 9ms/step - loss: 0.1351 - acc: 0.9495 - val_loss: 0.1311 - val_acc: 0.9474\n",
            "Epoch 15/30\n",
            "5146/5146 [==============================] - 46s 9ms/step - loss: 0.1297 - acc: 0.9518 - val_loss: 0.1730 - val_acc: 0.9388\n",
            "Epoch 16/30\n",
            "5146/5146 [==============================] - 47s 9ms/step - loss: 0.1365 - acc: 0.9479 - val_loss: 0.2051 - val_acc: 0.9270\n",
            "Epoch 17/30\n",
            "5146/5146 [==============================] - 47s 9ms/step - loss: 0.1555 - acc: 0.9440 - val_loss: 0.1470 - val_acc: 0.9542\n",
            "Epoch 18/30\n",
            "5146/5146 [==============================] - 46s 9ms/step - loss: 0.1347 - acc: 0.9468 - val_loss: 0.2259 - val_acc: 0.9170\n",
            "Epoch 19/30\n",
            "5146/5146 [==============================] - 47s 9ms/step - loss: 0.1336 - acc: 0.9489 - val_loss: 0.1245 - val_acc: 0.9574\n",
            "Epoch 20/30\n",
            "5146/5146 [==============================] - 47s 9ms/step - loss: 0.1234 - acc: 0.9508 - val_loss: 0.1440 - val_acc: 0.9547\n",
            "Epoch 21/30\n",
            "5146/5146 [==============================] - 47s 9ms/step - loss: 0.1246 - acc: 0.9444 - val_loss: 0.1314 - val_acc: 0.9420\n",
            "Epoch 22/30\n",
            "5146/5146 [==============================] - 46s 9ms/step - loss: 0.1243 - acc: 0.9468 - val_loss: 0.1430 - val_acc: 0.9451\n",
            "Epoch 23/30\n",
            "5146/5146 [==============================] - 47s 9ms/step - loss: 0.1428 - acc: 0.9458 - val_loss: 0.1303 - val_acc: 0.9510\n",
            "Epoch 24/30\n",
            "5146/5146 [==============================] - 47s 9ms/step - loss: 0.1659 - acc: 0.9413 - val_loss: 0.1506 - val_acc: 0.9510\n",
            "Epoch 25/30\n",
            "5146/5146 [==============================] - 46s 9ms/step - loss: 0.1479 - acc: 0.9471 - val_loss: 0.1336 - val_acc: 0.9565\n",
            "Epoch 26/30\n",
            "5146/5146 [==============================] - 46s 9ms/step - loss: 0.1202 - acc: 0.9553 - val_loss: 0.1196 - val_acc: 0.9560\n",
            "Epoch 27/30\n",
            "5146/5146 [==============================] - 46s 9ms/step - loss: 0.1194 - acc: 0.9516 - val_loss: 0.1119 - val_acc: 0.9606\n",
            "Epoch 28/30\n",
            "5146/5146 [==============================] - 46s 9ms/step - loss: 0.1177 - acc: 0.9524 - val_loss: 0.1211 - val_acc: 0.9565\n",
            "Epoch 29/30\n",
            "5146/5146 [==============================] - 46s 9ms/step - loss: 0.1367 - acc: 0.9489 - val_loss: 0.1268 - val_acc: 0.9551\n",
            "Epoch 30/30\n",
            "5146/5146 [==============================] - 46s 9ms/step - loss: 0.1202 - acc: 0.9528 - val_loss: 0.1245 - val_acc: 0.9574\n"
          ],
          "name": "stdout"
        },
        {
          "output_type": "stream",
          "text": [
            "\n",
            " 22%|██▏       | 2/9 [46:45<2:43:50, 1404.39s/it]\u001b[A"
          ],
          "name": "stderr"
        },
        {
          "output_type": "stream",
          "text": [
            "Train on 5146 samples, validate on 2206 samples\n",
            "Epoch 1/30\n",
            "5146/5146 [==============================] - 47s 9ms/step - loss: 1.2544 - acc: 0.4786 - val_loss: 0.9731 - val_acc: 0.5852\n",
            "Epoch 2/30\n",
            "5146/5146 [==============================] - 46s 9ms/step - loss: 0.8484 - acc: 0.6335 - val_loss: 0.7020 - val_acc: 0.6890\n",
            "Epoch 3/30\n",
            "5146/5146 [==============================] - 46s 9ms/step - loss: 0.7039 - acc: 0.6627 - val_loss: 0.7201 - val_acc: 0.6364\n",
            "Epoch 4/30\n",
            "5146/5146 [==============================] - 46s 9ms/step - loss: 0.6897 - acc: 0.6823 - val_loss: 0.6049 - val_acc: 0.7520\n",
            "Epoch 5/30\n",
            "5146/5146 [==============================] - 46s 9ms/step - loss: 0.5937 - acc: 0.7623 - val_loss: 0.4976 - val_acc: 0.8459\n",
            "Epoch 6/30\n",
            "5146/5146 [==============================] - 46s 9ms/step - loss: 0.5129 - acc: 0.7927 - val_loss: 0.4901 - val_acc: 0.7901\n",
            "Epoch 7/30\n",
            "5146/5146 [==============================] - 47s 9ms/step - loss: 0.3183 - acc: 0.8990 - val_loss: 0.2261 - val_acc: 0.9347\n",
            "Epoch 8/30\n",
            "5146/5146 [==============================] - 46s 9ms/step - loss: 0.2459 - acc: 0.9054 - val_loss: 0.1742 - val_acc: 0.9465\n",
            "Epoch 9/30\n",
            "5146/5146 [==============================] - 46s 9ms/step - loss: 0.2060 - acc: 0.9264 - val_loss: 0.1825 - val_acc: 0.9297\n",
            "Epoch 10/30\n",
            "5146/5146 [==============================] - 46s 9ms/step - loss: 0.1809 - acc: 0.9400 - val_loss: 0.1791 - val_acc: 0.9402\n",
            "Epoch 11/30\n",
            "5146/5146 [==============================] - 47s 9ms/step - loss: 0.1633 - acc: 0.9448 - val_loss: 0.1449 - val_acc: 0.9510\n",
            "Epoch 12/30\n",
            "5146/5146 [==============================] - 47s 9ms/step - loss: 0.1594 - acc: 0.9431 - val_loss: 0.1701 - val_acc: 0.9284\n",
            "Epoch 13/30\n",
            "5146/5146 [==============================] - 47s 9ms/step - loss: 0.1683 - acc: 0.9382 - val_loss: 0.1615 - val_acc: 0.9438\n",
            "Epoch 14/30\n",
            "5146/5146 [==============================] - 48s 9ms/step - loss: 0.1733 - acc: 0.9390 - val_loss: 0.1294 - val_acc: 0.9542\n",
            "Epoch 15/30\n",
            "5146/5146 [==============================] - 47s 9ms/step - loss: 0.1480 - acc: 0.9477 - val_loss: 0.1968 - val_acc: 0.9288\n",
            "Epoch 16/30\n",
            "5146/5146 [==============================] - 47s 9ms/step - loss: 0.1332 - acc: 0.9489 - val_loss: 0.1312 - val_acc: 0.9524\n",
            "Epoch 17/30\n",
            "5146/5146 [==============================] - 47s 9ms/step - loss: 0.1348 - acc: 0.9483 - val_loss: 0.1385 - val_acc: 0.9479\n",
            "Epoch 18/30\n",
            "5146/5146 [==============================] - 48s 9ms/step - loss: 0.1647 - acc: 0.9398 - val_loss: 0.1427 - val_acc: 0.9506\n",
            "Epoch 19/30\n",
            "5146/5146 [==============================] - 48s 9ms/step - loss: 0.1510 - acc: 0.9359 - val_loss: 0.2543 - val_acc: 0.8708\n",
            "Epoch 20/30\n",
            "5146/5146 [==============================] - 49s 9ms/step - loss: 0.1621 - acc: 0.9386 - val_loss: 0.1523 - val_acc: 0.9411\n",
            "Epoch 21/30\n",
            "5146/5146 [==============================] - 48s 9ms/step - loss: 0.1453 - acc: 0.9400 - val_loss: 0.1417 - val_acc: 0.9483\n",
            "Epoch 22/30\n",
            "5146/5146 [==============================] - 49s 9ms/step - loss: 0.1338 - acc: 0.9487 - val_loss: 0.1628 - val_acc: 0.9433\n",
            "Epoch 23/30\n",
            "5146/5146 [==============================] - 48s 9ms/step - loss: 0.1326 - acc: 0.9452 - val_loss: 0.1303 - val_acc: 0.9438\n",
            "Epoch 24/30\n",
            "5146/5146 [==============================] - 48s 9ms/step - loss: 0.1406 - acc: 0.9475 - val_loss: 0.1381 - val_acc: 0.9415\n",
            "Epoch 25/30\n",
            "5146/5146 [==============================] - 49s 9ms/step - loss: 0.1248 - acc: 0.9526 - val_loss: 0.1370 - val_acc: 0.9479\n",
            "Epoch 26/30\n",
            "5146/5146 [==============================] - 48s 9ms/step - loss: 0.1207 - acc: 0.9524 - val_loss: 0.1416 - val_acc: 0.9488\n",
            "Epoch 27/30\n",
            "5146/5146 [==============================] - 49s 9ms/step - loss: 0.1312 - acc: 0.9503 - val_loss: 0.1211 - val_acc: 0.9556\n",
            "Epoch 28/30\n",
            "5146/5146 [==============================] - 48s 9ms/step - loss: 0.1562 - acc: 0.9436 - val_loss: 0.1363 - val_acc: 0.9433\n",
            "Epoch 29/30\n",
            "5146/5146 [==============================] - 48s 9ms/step - loss: 0.1172 - acc: 0.9526 - val_loss: 0.1167 - val_acc: 0.9529\n",
            "Epoch 30/30\n",
            "5146/5146 [==============================] - 47s 9ms/step - loss: 0.1180 - acc: 0.9520 - val_loss: 0.1210 - val_acc: 0.9551\n"
          ],
          "name": "stdout"
        },
        {
          "output_type": "stream",
          "text": [
            "\n",
            " 33%|███▎      | 3/9 [1:10:24<2:20:52, 1408.68s/it]\u001b[A"
          ],
          "name": "stderr"
        },
        {
          "output_type": "stream",
          "text": [
            "Train on 5146 samples, validate on 2206 samples\n",
            "Epoch 1/30\n",
            "5146/5146 [==============================] - 68s 13ms/step - loss: 1.3690 - acc: 0.4015 - val_loss: 1.2471 - val_acc: 0.4470\n",
            "Epoch 2/30\n",
            "5146/5146 [==============================] - 66s 13ms/step - loss: 1.2366 - acc: 0.4703 - val_loss: 1.0517 - val_acc: 0.5802\n",
            "Epoch 3/30\n",
            "5146/5146 [==============================] - 67s 13ms/step - loss: 0.8480 - acc: 0.6154 - val_loss: 0.6745 - val_acc: 0.6754\n",
            "Epoch 4/30\n",
            "5146/5146 [==============================] - 67s 13ms/step - loss: 0.6538 - acc: 0.6926 - val_loss: 0.6266 - val_acc: 0.7194\n",
            "Epoch 5/30\n",
            "5146/5146 [==============================] - 68s 13ms/step - loss: 0.5704 - acc: 0.7588 - val_loss: 1.4384 - val_acc: 0.3935\n",
            "Epoch 6/30\n",
            "5146/5146 [==============================] - 66s 13ms/step - loss: 1.4551 - acc: 0.3721 - val_loss: 1.3497 - val_acc: 0.4878\n",
            "Epoch 7/30\n",
            "5146/5146 [==============================] - 65s 13ms/step - loss: 1.1996 - acc: 0.4769 - val_loss: 0.9654 - val_acc: 0.5925\n",
            "Epoch 8/30\n",
            "5146/5146 [==============================] - 65s 13ms/step - loss: 1.3518 - acc: 0.4153 - val_loss: 1.0370 - val_acc: 0.5743\n",
            "Epoch 9/30\n",
            "5146/5146 [==============================] - 64s 12ms/step - loss: 0.9649 - acc: 0.5659 - val_loss: 0.7324 - val_acc: 0.6609\n",
            "Epoch 10/30\n",
            "5146/5146 [==============================] - 65s 13ms/step - loss: 0.7385 - acc: 0.6809 - val_loss: 0.8742 - val_acc: 0.6700\n",
            "Epoch 11/30\n",
            "5146/5146 [==============================] - 63s 12ms/step - loss: 0.7142 - acc: 0.7149 - val_loss: 0.5862 - val_acc: 0.7384\n",
            "Epoch 12/30\n",
            "5146/5146 [==============================] - 65s 13ms/step - loss: 0.5745 - acc: 0.7550 - val_loss: 0.4914 - val_acc: 0.8114\n",
            "Epoch 13/30\n",
            "5146/5146 [==============================] - 63s 12ms/step - loss: 0.4686 - acc: 0.8133 - val_loss: 0.3715 - val_acc: 0.8522\n",
            "Epoch 14/30\n",
            "5146/5146 [==============================] - 64s 12ms/step - loss: 0.3500 - acc: 0.8737 - val_loss: 0.3423 - val_acc: 0.8790\n",
            "Epoch 15/30\n",
            "5146/5146 [==============================] - 63s 12ms/step - loss: 0.3028 - acc: 0.8976 - val_loss: 0.2579 - val_acc: 0.9198\n",
            "Epoch 16/30\n",
            "5146/5146 [==============================] - 63s 12ms/step - loss: 0.2548 - acc: 0.9127 - val_loss: 0.1921 - val_acc: 0.9383\n",
            "Epoch 17/30\n",
            "5146/5146 [==============================] - 63s 12ms/step - loss: 0.1947 - acc: 0.9302 - val_loss: 0.1980 - val_acc: 0.9243\n",
            "Epoch 18/30\n",
            "5146/5146 [==============================] - 63s 12ms/step - loss: 0.3559 - acc: 0.8613 - val_loss: 0.2332 - val_acc: 0.9034\n",
            "Epoch 19/30\n",
            "5146/5146 [==============================] - 63s 12ms/step - loss: 0.2066 - acc: 0.9295 - val_loss: 0.1643 - val_acc: 0.9470\n",
            "Epoch 20/30\n",
            "5146/5146 [==============================] - 63s 12ms/step - loss: 0.1967 - acc: 0.9271 - val_loss: 0.1762 - val_acc: 0.9361\n",
            "Epoch 21/30\n",
            "5146/5146 [==============================] - 62s 12ms/step - loss: 0.1699 - acc: 0.9357 - val_loss: 0.1679 - val_acc: 0.9388\n",
            "Epoch 22/30\n",
            "5146/5146 [==============================] - 63s 12ms/step - loss: 0.1750 - acc: 0.9370 - val_loss: 0.1496 - val_acc: 0.9383\n",
            "Epoch 23/30\n",
            "5146/5146 [==============================] - 62s 12ms/step - loss: 0.1425 - acc: 0.9477 - val_loss: 0.1272 - val_acc: 0.9492\n",
            "Epoch 24/30\n",
            "5146/5146 [==============================] - 63s 12ms/step - loss: 0.1596 - acc: 0.9403 - val_loss: 0.2153 - val_acc: 0.9320\n",
            "Epoch 25/30\n",
            "5146/5146 [==============================] - 62s 12ms/step - loss: 0.1470 - acc: 0.9466 - val_loss: 0.1380 - val_acc: 0.9424\n",
            "Epoch 26/30\n",
            "5146/5146 [==============================] - 62s 12ms/step - loss: 0.1254 - acc: 0.9526 - val_loss: 0.1155 - val_acc: 0.9606\n",
            "Epoch 27/30\n",
            "5146/5146 [==============================] - 63s 12ms/step - loss: 0.1215 - acc: 0.9541 - val_loss: 0.1786 - val_acc: 0.9343\n",
            "Epoch 28/30\n",
            "5146/5146 [==============================] - 62s 12ms/step - loss: 0.1604 - acc: 0.9384 - val_loss: 0.1322 - val_acc: 0.9556\n",
            "Epoch 29/30\n",
            "5146/5146 [==============================] - 62s 12ms/step - loss: 0.1324 - acc: 0.9452 - val_loss: 0.1226 - val_acc: 0.9479\n",
            "Epoch 30/30\n",
            "5146/5146 [==============================] - 62s 12ms/step - loss: 0.1280 - acc: 0.9473 - val_loss: 0.1251 - val_acc: 0.9415\n"
          ],
          "name": "stdout"
        },
        {
          "output_type": "stream",
          "text": [
            "\n",
            " 44%|████▍     | 4/9 [1:42:23<2:10:10, 1562.02s/it]\u001b[A"
          ],
          "name": "stderr"
        },
        {
          "output_type": "stream",
          "text": [
            "Train on 5146 samples, validate on 2206 samples\n",
            "Epoch 1/30\n",
            "5146/5146 [==============================] - 40s 8ms/step - loss: 1.2937 - acc: 0.4530 - val_loss: 1.1076 - val_acc: 0.5345\n",
            "Epoch 2/30\n",
            "5146/5146 [==============================] - 40s 8ms/step - loss: 0.9717 - acc: 0.5556 - val_loss: 0.9588 - val_acc: 0.5063\n",
            "Epoch 3/30\n",
            "5146/5146 [==============================] - 39s 8ms/step - loss: 0.7649 - acc: 0.6343 - val_loss: 0.7068 - val_acc: 0.6682\n",
            "Epoch 4/30\n",
            "5146/5146 [==============================] - 39s 8ms/step - loss: 0.6890 - acc: 0.6751 - val_loss: 0.6599 - val_acc: 0.6895\n",
            "Epoch 5/30\n",
            "5146/5146 [==============================] - 39s 8ms/step - loss: 0.6562 - acc: 0.7023 - val_loss: 0.6252 - val_acc: 0.7212\n",
            "Epoch 6/30\n",
            "5146/5146 [==============================] - 39s 8ms/step - loss: 0.6369 - acc: 0.6982 - val_loss: 0.5892 - val_acc: 0.7153\n",
            "Epoch 7/30\n",
            "5146/5146 [==============================] - 39s 8ms/step - loss: 0.6847 - acc: 0.6906 - val_loss: 0.6519 - val_acc: 0.6999\n",
            "Epoch 8/30\n",
            "5146/5146 [==============================] - 39s 8ms/step - loss: 0.6355 - acc: 0.7165 - val_loss: 0.4838 - val_acc: 0.7770\n",
            "Epoch 9/30\n",
            "5146/5146 [==============================] - 39s 8ms/step - loss: 0.4739 - acc: 0.7921 - val_loss: 0.3971 - val_acc: 0.8463\n",
            "Epoch 10/30\n",
            "5146/5146 [==============================] - 39s 8ms/step - loss: 0.3824 - acc: 0.8465 - val_loss: 0.3364 - val_acc: 0.8844\n",
            "Epoch 11/30\n",
            "5146/5146 [==============================] - 39s 8ms/step - loss: 0.3499 - acc: 0.8673 - val_loss: 0.2883 - val_acc: 0.9098\n",
            "Epoch 12/30\n",
            "5146/5146 [==============================] - 39s 8ms/step - loss: 0.2707 - acc: 0.9081 - val_loss: 0.2498 - val_acc: 0.9130\n",
            "Epoch 13/30\n",
            "5146/5146 [==============================] - 39s 8ms/step - loss: 0.2413 - acc: 0.9170 - val_loss: 0.2544 - val_acc: 0.9152\n",
            "Epoch 14/30\n",
            "5146/5146 [==============================] - 39s 8ms/step - loss: 0.2130 - acc: 0.9271 - val_loss: 0.2176 - val_acc: 0.9248\n",
            "Epoch 15/30\n",
            "5146/5146 [==============================] - 39s 8ms/step - loss: 0.1930 - acc: 0.9302 - val_loss: 0.1991 - val_acc: 0.9252\n",
            "Epoch 16/30\n",
            "5146/5146 [==============================] - 39s 8ms/step - loss: 0.1910 - acc: 0.9322 - val_loss: 0.2142 - val_acc: 0.9270\n",
            "Epoch 17/30\n",
            "5146/5146 [==============================] - 39s 8ms/step - loss: 0.2318 - acc: 0.9174 - val_loss: 0.2858 - val_acc: 0.8681\n",
            "Epoch 18/30\n",
            "5146/5146 [==============================] - 40s 8ms/step - loss: 0.3193 - acc: 0.8780 - val_loss: 0.2738 - val_acc: 0.9039\n",
            "Epoch 19/30\n",
            "5146/5146 [==============================] - 39s 8ms/step - loss: 0.2455 - acc: 0.9040 - val_loss: 0.2457 - val_acc: 0.9039\n",
            "Epoch 20/30\n",
            "5146/5146 [==============================] - 39s 8ms/step - loss: 0.1861 - acc: 0.9339 - val_loss: 0.1981 - val_acc: 0.9429\n",
            "Epoch 21/30\n",
            "5146/5146 [==============================] - 39s 8ms/step - loss: 0.1714 - acc: 0.9355 - val_loss: 0.1680 - val_acc: 0.9383\n",
            "Epoch 22/30\n",
            "5146/5146 [==============================] - 39s 8ms/step - loss: 0.1737 - acc: 0.9376 - val_loss: 0.1663 - val_acc: 0.9429\n",
            "Epoch 23/30\n",
            "5146/5146 [==============================] - 39s 8ms/step - loss: 0.1610 - acc: 0.9376 - val_loss: 0.1729 - val_acc: 0.9415\n",
            "Epoch 24/30\n",
            "5146/5146 [==============================] - 40s 8ms/step - loss: 0.1402 - acc: 0.9466 - val_loss: 0.1582 - val_acc: 0.9515\n",
            "Epoch 25/30\n",
            "5146/5146 [==============================] - 41s 8ms/step - loss: 0.1370 - acc: 0.9425 - val_loss: 0.2544 - val_acc: 0.9034\n",
            "Epoch 26/30\n",
            "5146/5146 [==============================] - 42s 8ms/step - loss: 0.1374 - acc: 0.9487 - val_loss: 0.1496 - val_acc: 0.9438\n",
            "Epoch 27/30\n",
            "5146/5146 [==============================] - 41s 8ms/step - loss: 0.1312 - acc: 0.9487 - val_loss: 0.1550 - val_acc: 0.9470\n",
            "Epoch 28/30\n",
            "5146/5146 [==============================] - 41s 8ms/step - loss: 0.1769 - acc: 0.9333 - val_loss: 0.2148 - val_acc: 0.9270\n",
            "Epoch 29/30\n",
            "5146/5146 [==============================] - 40s 8ms/step - loss: 0.2784 - acc: 0.8618 - val_loss: 0.3044 - val_acc: 0.8286\n",
            "Epoch 30/30\n",
            "5146/5146 [==============================] - 41s 8ms/step - loss: 0.2652 - acc: 0.8644 - val_loss: 0.1924 - val_acc: 0.9320\n"
          ],
          "name": "stdout"
        },
        {
          "output_type": "stream",
          "text": [
            "\n",
            " 56%|█████▌    | 5/9 [2:02:12<1:36:39, 1449.84s/it]\u001b[A"
          ],
          "name": "stderr"
        },
        {
          "output_type": "stream",
          "text": [
            "Train on 5146 samples, validate on 2206 samples\n",
            "Epoch 1/30\n",
            "5146/5146 [==============================] - 69s 13ms/step - loss: 1.3953 - acc: 0.3976 - val_loss: 1.3560 - val_acc: 0.3799\n",
            "Epoch 2/30\n",
            "5146/5146 [==============================] - 68s 13ms/step - loss: 1.3477 - acc: 0.3782 - val_loss: 1.3695 - val_acc: 0.3767\n",
            "Epoch 3/30\n",
            "5146/5146 [==============================] - 66s 13ms/step - loss: 1.3742 - acc: 0.3690 - val_loss: 1.3900 - val_acc: 0.3223\n",
            "Epoch 4/30\n",
            "5146/5146 [==============================] - 68s 13ms/step - loss: 1.3390 - acc: 0.4118 - val_loss: 1.3737 - val_acc: 0.4519\n",
            "Epoch 5/30\n",
            "5146/5146 [==============================] - 67s 13ms/step - loss: 1.0628 - acc: 0.4800 - val_loss: 1.7544 - val_acc: 0.3382\n",
            "Epoch 6/30\n",
            "5146/5146 [==============================] - 66s 13ms/step - loss: 1.0266 - acc: 0.5321 - val_loss: 0.8038 - val_acc: 0.6278\n",
            "Epoch 7/30\n",
            "5146/5146 [==============================] - 65s 13ms/step - loss: 0.7592 - acc: 0.6288 - val_loss: 0.6997 - val_acc: 0.6487\n",
            "Epoch 8/30\n",
            "5146/5146 [==============================] - 64s 12ms/step - loss: 0.7183 - acc: 0.6370 - val_loss: 0.6646 - val_acc: 0.6546\n",
            "Epoch 9/30\n",
            "5146/5146 [==============================] - 64s 12ms/step - loss: 0.7735 - acc: 0.6127 - val_loss: 0.6415 - val_acc: 0.6573\n",
            "Epoch 10/30\n",
            "5146/5146 [==============================] - 64s 12ms/step - loss: 0.6489 - acc: 0.6726 - val_loss: 0.6023 - val_acc: 0.7212\n",
            "Epoch 11/30\n",
            "5146/5146 [==============================] - 64s 12ms/step - loss: 0.6222 - acc: 0.7132 - val_loss: 0.6962 - val_acc: 0.6895\n",
            "Epoch 12/30\n",
            "5146/5146 [==============================] - 65s 13ms/step - loss: 0.5559 - acc: 0.7639 - val_loss: 0.5377 - val_acc: 0.7665\n",
            "Epoch 13/30\n",
            "5146/5146 [==============================] - 64s 12ms/step - loss: 0.4770 - acc: 0.7962 - val_loss: 0.5061 - val_acc: 0.7593\n",
            "Epoch 14/30\n",
            "5146/5146 [==============================] - 64s 12ms/step - loss: 0.4440 - acc: 0.8119 - val_loss: 0.4034 - val_acc: 0.8218\n",
            "Epoch 15/30\n",
            "5146/5146 [==============================] - 63s 12ms/step - loss: 0.3633 - acc: 0.8644 - val_loss: 0.5003 - val_acc: 0.7910\n",
            "Epoch 16/30\n",
            "5146/5146 [==============================] - 63s 12ms/step - loss: 0.2762 - acc: 0.9017 - val_loss: 0.2397 - val_acc: 0.9284\n",
            "Epoch 17/30\n",
            "5146/5146 [==============================] - 64s 13ms/step - loss: 0.2396 - acc: 0.9178 - val_loss: 0.1987 - val_acc: 0.9361\n",
            "Epoch 18/30\n",
            "5146/5146 [==============================] - 64s 12ms/step - loss: 0.1670 - acc: 0.9409 - val_loss: 0.1783 - val_acc: 0.9438\n",
            "Epoch 19/30\n",
            "5146/5146 [==============================] - 64s 12ms/step - loss: 0.1581 - acc: 0.9427 - val_loss: 0.1846 - val_acc: 0.9334\n",
            "Epoch 20/30\n",
            "5146/5146 [==============================] - 64s 12ms/step - loss: 0.1548 - acc: 0.9442 - val_loss: 0.1899 - val_acc: 0.9393\n",
            "Epoch 21/30\n",
            "5146/5146 [==============================] - 63s 12ms/step - loss: 0.1332 - acc: 0.9479 - val_loss: 0.1254 - val_acc: 0.9538\n",
            "Epoch 22/30\n",
            "5146/5146 [==============================] - 65s 13ms/step - loss: 0.1224 - acc: 0.9518 - val_loss: 0.1645 - val_acc: 0.9442\n",
            "Epoch 23/30\n",
            "5146/5146 [==============================] - 65s 13ms/step - loss: 0.1610 - acc: 0.9324 - val_loss: 0.1482 - val_acc: 0.9356\n",
            "Epoch 24/30\n",
            "5146/5146 [==============================] - 68s 13ms/step - loss: 0.1536 - acc: 0.9409 - val_loss: 0.4095 - val_acc: 0.8808\n",
            "Epoch 25/30\n",
            "5146/5146 [==============================] - 66s 13ms/step - loss: 0.1781 - acc: 0.9405 - val_loss: 0.2094 - val_acc: 0.9170\n",
            "Epoch 26/30\n",
            "5146/5146 [==============================] - 67s 13ms/step - loss: 0.1749 - acc: 0.9310 - val_loss: 0.2050 - val_acc: 0.9184\n",
            "Epoch 27/30\n",
            "5146/5146 [==============================] - 68s 13ms/step - loss: 0.2084 - acc: 0.9126 - val_loss: 0.1506 - val_acc: 0.9456\n",
            "Epoch 28/30\n",
            "5146/5146 [==============================] - 67s 13ms/step - loss: 0.1673 - acc: 0.9328 - val_loss: 0.3245 - val_acc: 0.8087\n",
            "Epoch 29/30\n",
            "5146/5146 [==============================] - 66s 13ms/step - loss: 0.1586 - acc: 0.9347 - val_loss: 0.1500 - val_acc: 0.9311\n",
            "Epoch 30/30\n",
            "5146/5146 [==============================] - 66s 13ms/step - loss: 0.1293 - acc: 0.9504 - val_loss: 0.1178 - val_acc: 0.9551\n"
          ],
          "name": "stdout"
        },
        {
          "output_type": "stream",
          "text": [
            "\n",
            " 67%|██████▋   | 6/9 [2:34:56<1:20:12, 1604.07s/it]\u001b[A"
          ],
          "name": "stderr"
        },
        {
          "output_type": "stream",
          "text": [
            "Train on 5146 samples, validate on 2206 samples\n",
            "Epoch 1/30\n",
            "5146/5146 [==============================] - 45s 9ms/step - loss: 1.3352 - acc: 0.4330 - val_loss: 0.9891 - val_acc: 0.5172\n",
            "Epoch 2/30\n",
            "5146/5146 [==============================] - 42s 8ms/step - loss: 0.9922 - acc: 0.5468 - val_loss: 0.9177 - val_acc: 0.6124\n",
            "Epoch 3/30\n",
            "5146/5146 [==============================] - 41s 8ms/step - loss: 0.7860 - acc: 0.6459 - val_loss: 0.7048 - val_acc: 0.6510\n",
            "Epoch 4/30\n",
            "5146/5146 [==============================] - 41s 8ms/step - loss: 0.7723 - acc: 0.6387 - val_loss: 0.7154 - val_acc: 0.6813\n",
            "Epoch 5/30\n",
            "5146/5146 [==============================] - 42s 8ms/step - loss: 0.7157 - acc: 0.6681 - val_loss: 0.6649 - val_acc: 0.6913\n",
            "Epoch 6/30\n",
            "5146/5146 [==============================] - 42s 8ms/step - loss: 0.8827 - acc: 0.5680 - val_loss: 0.7588 - val_acc: 0.6024\n",
            "Epoch 7/30\n",
            "5146/5146 [==============================] - 42s 8ms/step - loss: 0.7230 - acc: 0.6611 - val_loss: 0.6727 - val_acc: 0.6392\n",
            "Epoch 8/30\n",
            "5146/5146 [==============================] - 41s 8ms/step - loss: 0.6230 - acc: 0.7095 - val_loss: 0.5518 - val_acc: 0.7375\n",
            "Epoch 9/30\n",
            "5146/5146 [==============================] - 41s 8ms/step - loss: 0.6728 - acc: 0.6494 - val_loss: 0.5888 - val_acc: 0.7321\n",
            "Epoch 10/30\n",
            "5146/5146 [==============================] - 42s 8ms/step - loss: 0.5092 - acc: 0.7483 - val_loss: 0.4564 - val_acc: 0.7743\n",
            "Epoch 11/30\n",
            "5146/5146 [==============================] - 41s 8ms/step - loss: 0.4247 - acc: 0.8031 - val_loss: 0.4311 - val_acc: 0.7915\n",
            "Epoch 12/30\n",
            "5146/5146 [==============================] - 41s 8ms/step - loss: 0.4258 - acc: 0.8294 - val_loss: 0.4135 - val_acc: 0.8105\n",
            "Epoch 13/30\n",
            "5146/5146 [==============================] - 42s 8ms/step - loss: 0.3360 - acc: 0.8809 - val_loss: 0.3901 - val_acc: 0.8527\n",
            "Epoch 14/30\n",
            "5146/5146 [==============================] - 41s 8ms/step - loss: 0.3026 - acc: 0.8908 - val_loss: 0.2925 - val_acc: 0.8948\n",
            "Epoch 15/30\n",
            "5146/5146 [==============================] - 42s 8ms/step - loss: 0.2368 - acc: 0.9143 - val_loss: 0.2259 - val_acc: 0.9225\n",
            "Epoch 16/30\n",
            "5146/5146 [==============================] - 43s 8ms/step - loss: 0.2246 - acc: 0.9217 - val_loss: 0.2060 - val_acc: 0.9297\n",
            "Epoch 17/30\n",
            "5146/5146 [==============================] - 42s 8ms/step - loss: 0.2177 - acc: 0.9188 - val_loss: 0.2346 - val_acc: 0.9121\n",
            "Epoch 18/30\n",
            "5146/5146 [==============================] - 42s 8ms/step - loss: 0.1861 - acc: 0.9361 - val_loss: 0.1743 - val_acc: 0.9374\n",
            "Epoch 19/30\n",
            "5146/5146 [==============================] - 41s 8ms/step - loss: 0.1769 - acc: 0.9335 - val_loss: 0.1655 - val_acc: 0.9361\n",
            "Epoch 20/30\n",
            "5146/5146 [==============================] - 42s 8ms/step - loss: 0.1534 - acc: 0.9442 - val_loss: 0.1711 - val_acc: 0.9365\n",
            "Epoch 21/30\n",
            "5146/5146 [==============================] - 41s 8ms/step - loss: 0.2414 - acc: 0.9182 - val_loss: 0.3340 - val_acc: 0.9034\n",
            "Epoch 22/30\n",
            "5146/5146 [==============================] - 41s 8ms/step - loss: 0.1770 - acc: 0.9355 - val_loss: 0.1801 - val_acc: 0.9361\n",
            "Epoch 23/30\n",
            "5146/5146 [==============================] - 42s 8ms/step - loss: 0.1618 - acc: 0.9405 - val_loss: 0.1626 - val_acc: 0.9383\n",
            "Epoch 24/30\n",
            "5146/5146 [==============================] - 41s 8ms/step - loss: 0.1708 - acc: 0.9417 - val_loss: 0.1664 - val_acc: 0.9429\n",
            "Epoch 25/30\n",
            "5146/5146 [==============================] - 40s 8ms/step - loss: 0.1423 - acc: 0.9440 - val_loss: 0.1503 - val_acc: 0.9402\n",
            "Epoch 26/30\n",
            "5146/5146 [==============================] - 40s 8ms/step - loss: 0.1387 - acc: 0.9473 - val_loss: 0.1338 - val_acc: 0.9510\n",
            "Epoch 27/30\n",
            "5146/5146 [==============================] - 40s 8ms/step - loss: 0.1350 - acc: 0.9499 - val_loss: 0.1432 - val_acc: 0.9383\n",
            "Epoch 28/30\n",
            "5146/5146 [==============================] - 40s 8ms/step - loss: 0.1234 - acc: 0.9493 - val_loss: 0.1388 - val_acc: 0.9519\n",
            "Epoch 29/30\n",
            "5146/5146 [==============================] - 40s 8ms/step - loss: 0.1334 - acc: 0.9493 - val_loss: 0.1437 - val_acc: 0.9483\n",
            "Epoch 30/30\n",
            "5146/5146 [==============================] - 40s 8ms/step - loss: 0.1224 - acc: 0.9508 - val_loss: 0.1239 - val_acc: 0.9442\n"
          ],
          "name": "stdout"
        },
        {
          "output_type": "stream",
          "text": [
            "\n",
            " 78%|███████▊  | 7/9 [2:55:38<49:51, 1495.74s/it]  \u001b[A"
          ],
          "name": "stderr"
        },
        {
          "output_type": "stream",
          "text": [
            "Train on 5146 samples, validate on 2206 samples\n",
            "Epoch 1/30\n",
            "5146/5146 [==============================] - 42s 8ms/step - loss: 1.1741 - acc: 0.5317 - val_loss: 0.7982 - val_acc: 0.6047\n",
            "Epoch 2/30\n",
            "5146/5146 [==============================] - 40s 8ms/step - loss: 0.7257 - acc: 0.6881 - val_loss: 0.6044 - val_acc: 0.7489\n",
            "Epoch 3/30\n",
            "5146/5146 [==============================] - 40s 8ms/step - loss: 0.5968 - acc: 0.7476 - val_loss: 0.4850 - val_acc: 0.7820\n",
            "Epoch 4/30\n",
            "5146/5146 [==============================] - 40s 8ms/step - loss: 0.7059 - acc: 0.7044 - val_loss: 0.6295 - val_acc: 0.7906\n",
            "Epoch 5/30\n",
            "5146/5146 [==============================] - 40s 8ms/step - loss: 0.5539 - acc: 0.7800 - val_loss: 0.4386 - val_acc: 0.8432\n",
            "Epoch 6/30\n",
            "5146/5146 [==============================] - 40s 8ms/step - loss: 0.4268 - acc: 0.8405 - val_loss: 0.3469 - val_acc: 0.8808\n",
            "Epoch 7/30\n",
            "5146/5146 [==============================] - 40s 8ms/step - loss: 0.4059 - acc: 0.8545 - val_loss: 0.4293 - val_acc: 0.8391\n",
            "Epoch 8/30\n",
            "5146/5146 [==============================] - 40s 8ms/step - loss: 0.2940 - acc: 0.8995 - val_loss: 0.2975 - val_acc: 0.9016\n",
            "Epoch 9/30\n",
            "5146/5146 [==============================] - 40s 8ms/step - loss: 0.2494 - acc: 0.9159 - val_loss: 0.2342 - val_acc: 0.9234\n",
            "Epoch 10/30\n",
            "5146/5146 [==============================] - 39s 8ms/step - loss: 0.2554 - acc: 0.9151 - val_loss: 0.2310 - val_acc: 0.9275\n",
            "Epoch 11/30\n",
            "5146/5146 [==============================] - 40s 8ms/step - loss: 0.2227 - acc: 0.9248 - val_loss: 0.2296 - val_acc: 0.9293\n",
            "Epoch 12/30\n",
            "5146/5146 [==============================] - 40s 8ms/step - loss: 0.2053 - acc: 0.9275 - val_loss: 0.2104 - val_acc: 0.9334\n",
            "Epoch 13/30\n",
            "5146/5146 [==============================] - 40s 8ms/step - loss: 0.2127 - acc: 0.9254 - val_loss: 0.2209 - val_acc: 0.9189\n",
            "Epoch 14/30\n",
            "5146/5146 [==============================] - 40s 8ms/step - loss: 0.2810 - acc: 0.8991 - val_loss: 0.4484 - val_acc: 0.8509\n",
            "Epoch 15/30\n",
            "5146/5146 [==============================] - 40s 8ms/step - loss: 0.2627 - acc: 0.9048 - val_loss: 0.2124 - val_acc: 0.9225\n",
            "Epoch 16/30\n",
            "5146/5146 [==============================] - 40s 8ms/step - loss: 0.2058 - acc: 0.9246 - val_loss: 0.2160 - val_acc: 0.9316\n",
            "Epoch 17/30\n",
            "5146/5146 [==============================] - 40s 8ms/step - loss: 0.1832 - acc: 0.9293 - val_loss: 0.1709 - val_acc: 0.9329\n",
            "Epoch 18/30\n",
            "5146/5146 [==============================] - 39s 8ms/step - loss: 0.1751 - acc: 0.9320 - val_loss: 0.1598 - val_acc: 0.9338\n",
            "Epoch 19/30\n",
            "5146/5146 [==============================] - 40s 8ms/step - loss: 0.1475 - acc: 0.9376 - val_loss: 0.1472 - val_acc: 0.9365\n",
            "Epoch 20/30\n",
            "5146/5146 [==============================] - 40s 8ms/step - loss: 0.1613 - acc: 0.9370 - val_loss: 0.1537 - val_acc: 0.9483\n",
            "Epoch 21/30\n",
            "5146/5146 [==============================] - 40s 8ms/step - loss: 0.1881 - acc: 0.9318 - val_loss: 0.2362 - val_acc: 0.9053\n",
            "Epoch 22/30\n",
            "5146/5146 [==============================] - 40s 8ms/step - loss: 0.1471 - acc: 0.9448 - val_loss: 0.1670 - val_acc: 0.9293\n",
            "Epoch 23/30\n",
            "5146/5146 [==============================] - 40s 8ms/step - loss: 0.1428 - acc: 0.9456 - val_loss: 0.1272 - val_acc: 0.9515\n",
            "Epoch 24/30\n",
            "5146/5146 [==============================] - 39s 8ms/step - loss: 0.1419 - acc: 0.9446 - val_loss: 0.1477 - val_acc: 0.9488\n",
            "Epoch 25/30\n",
            "5146/5146 [==============================] - 40s 8ms/step - loss: 0.1247 - acc: 0.9518 - val_loss: 0.1308 - val_acc: 0.9533\n",
            "Epoch 26/30\n",
            "5146/5146 [==============================] - 39s 8ms/step - loss: 0.1411 - acc: 0.9419 - val_loss: 0.1258 - val_acc: 0.9533\n",
            "Epoch 27/30\n",
            "5146/5146 [==============================] - 39s 8ms/step - loss: 0.1328 - acc: 0.9450 - val_loss: 0.1253 - val_acc: 0.9547\n",
            "Epoch 28/30\n",
            "5146/5146 [==============================] - 40s 8ms/step - loss: 0.1356 - acc: 0.9475 - val_loss: 0.1470 - val_acc: 0.9510\n",
            "Epoch 29/30\n",
            "5146/5146 [==============================] - 40s 8ms/step - loss: 0.1503 - acc: 0.9442 - val_loss: 0.1473 - val_acc: 0.9433\n",
            "Epoch 30/30\n",
            "5146/5146 [==============================] - 39s 8ms/step - loss: 0.1284 - acc: 0.9503 - val_loss: 0.1211 - val_acc: 0.9551\n"
          ],
          "name": "stdout"
        },
        {
          "output_type": "stream",
          "text": [
            "\n",
            " 89%|████████▉ | 8/9 [3:15:35<23:26, 1406.11s/it]\u001b[A"
          ],
          "name": "stderr"
        },
        {
          "output_type": "stream",
          "text": [
            "Train on 5146 samples, validate on 2206 samples\n",
            "Epoch 1/30\n",
            "5146/5146 [==============================] - 66s 13ms/step - loss: 1.4298 - acc: 0.3508 - val_loss: 1.3359 - val_acc: 0.3817\n",
            "Epoch 2/30\n",
            "5146/5146 [==============================] - 64s 12ms/step - loss: 1.5386 - acc: 0.3210 - val_loss: 1.5670 - val_acc: 0.3001\n",
            "Epoch 3/30\n",
            "5146/5146 [==============================] - 64s 12ms/step - loss: 1.4224 - acc: 0.3708 - val_loss: 1.3814 - val_acc: 0.3803\n",
            "Epoch 4/30\n",
            "5146/5146 [==============================] - 64s 12ms/step - loss: 1.3699 - acc: 0.3712 - val_loss: 1.3782 - val_acc: 0.3803\n",
            "Epoch 5/30\n",
            "5146/5146 [==============================] - 64s 12ms/step - loss: 1.3672 - acc: 0.3684 - val_loss: 1.3620 - val_acc: 0.3803\n",
            "Epoch 6/30\n",
            "5146/5146 [==============================] - 63s 12ms/step - loss: 1.3565 - acc: 0.3661 - val_loss: 1.3733 - val_acc: 0.3803\n",
            "Epoch 7/30\n",
            "5146/5146 [==============================] - 64s 12ms/step - loss: 1.3176 - acc: 0.3991 - val_loss: 1.2840 - val_acc: 0.4415\n",
            "Epoch 8/30\n",
            "5146/5146 [==============================] - 63s 12ms/step - loss: 1.3479 - acc: 0.3712 - val_loss: 1.3312 - val_acc: 0.3817\n",
            "Epoch 9/30\n",
            "5146/5146 [==============================] - 63s 12ms/step - loss: 1.3265 - acc: 0.3927 - val_loss: 1.3362 - val_acc: 0.3572\n",
            "Epoch 10/30\n",
            "5146/5146 [==============================] - 63s 12ms/step - loss: 1.3359 - acc: 0.3677 - val_loss: 1.3370 - val_acc: 0.3572\n",
            "Epoch 11/30\n",
            "5146/5146 [==============================] - 63s 12ms/step - loss: 1.3334 - acc: 0.3766 - val_loss: 1.3351 - val_acc: 0.3817\n",
            "Epoch 12/30\n",
            "5146/5146 [==============================] - 63s 12ms/step - loss: 1.3317 - acc: 0.3727 - val_loss: 1.3260 - val_acc: 0.3817\n",
            "Epoch 13/30\n",
            "5146/5146 [==============================] - 63s 12ms/step - loss: 1.3287 - acc: 0.3883 - val_loss: 1.2840 - val_acc: 0.4207\n",
            "Epoch 14/30\n",
            "5146/5146 [==============================] - 63s 12ms/step - loss: 1.0715 - acc: 0.4949 - val_loss: 0.8447 - val_acc: 0.5671\n",
            "Epoch 15/30\n",
            "5146/5146 [==============================] - 63s 12ms/step - loss: 0.9119 - acc: 0.5262 - val_loss: 0.8648 - val_acc: 0.5331\n",
            "Epoch 16/30\n",
            "5146/5146 [==============================] - 63s 12ms/step - loss: 1.0391 - acc: 0.4936 - val_loss: 0.8702 - val_acc: 0.5258\n",
            "Epoch 17/30\n",
            "5146/5146 [==============================] - 63s 12ms/step - loss: 0.7924 - acc: 0.5851 - val_loss: 0.8238 - val_acc: 0.5403\n",
            "Epoch 18/30\n",
            "5146/5146 [==============================] - 63s 12ms/step - loss: 0.7537 - acc: 0.5874 - val_loss: 0.7578 - val_acc: 0.6142\n",
            "Epoch 19/30\n",
            "5146/5146 [==============================] - 63s 12ms/step - loss: 0.7394 - acc: 0.6207 - val_loss: 0.7159 - val_acc: 0.6274\n",
            "Epoch 20/30\n",
            "5146/5146 [==============================] - 63s 12ms/step - loss: 0.7015 - acc: 0.6308 - val_loss: 0.6882 - val_acc: 0.6319\n",
            "Epoch 21/30\n",
            "5146/5146 [==============================] - 63s 12ms/step - loss: 0.6698 - acc: 0.6384 - val_loss: 0.7538 - val_acc: 0.6301\n",
            "Epoch 22/30\n",
            "5146/5146 [==============================] - 63s 12ms/step - loss: 0.8403 - acc: 0.5787 - val_loss: 0.7379 - val_acc: 0.6020\n",
            "Epoch 23/30\n",
            "5146/5146 [==============================] - 63s 12ms/step - loss: 0.7057 - acc: 0.6228 - val_loss: 0.6007 - val_acc: 0.6646\n",
            "Epoch 24/30\n",
            "5146/5146 [==============================] - 63s 12ms/step - loss: 0.5764 - acc: 0.6481 - val_loss: 0.5389 - val_acc: 0.6627\n",
            "Epoch 25/30\n",
            "5146/5146 [==============================] - 63s 12ms/step - loss: 0.5596 - acc: 0.6432 - val_loss: 0.5295 - val_acc: 0.6591\n",
            "Epoch 26/30\n",
            "5146/5146 [==============================] - 63s 12ms/step - loss: 0.5310 - acc: 0.6514 - val_loss: 0.4959 - val_acc: 0.6636\n",
            "Epoch 27/30\n",
            "5146/5146 [==============================] - 63s 12ms/step - loss: 0.5256 - acc: 0.6547 - val_loss: 0.5309 - val_acc: 0.6537\n",
            "Epoch 28/30\n",
            "5146/5146 [==============================] - 62s 12ms/step - loss: 0.4894 - acc: 0.6580 - val_loss: 0.4802 - val_acc: 0.6659\n",
            "Epoch 29/30\n",
            "5146/5146 [==============================] - 63s 12ms/step - loss: 0.4840 - acc: 0.6605 - val_loss: 0.4780 - val_acc: 0.6646\n",
            "Epoch 30/30\n",
            "5146/5146 [==============================] - 63s 12ms/step - loss: 0.4730 - acc: 0.6578 - val_loss: 0.4773 - val_acc: 0.6627\n"
          ],
          "name": "stdout"
        },
        {
          "output_type": "stream",
          "text": [
            "\n",
            "100%|██████████| 9/9 [3:47:13<00:00, 1553.47s/it]\u001b[A\n",
            "\u001b[A"
          ],
          "name": "stderr"
        }
      ]
    },
    {
      "metadata": {
        "id": "G_H-bx1Z0lm1",
        "colab_type": "text"
      },
      "cell_type": "markdown",
      "source": [
        "### Results of HyperParameter Tuning"
      ]
    },
    {
      "metadata": {
        "id": "AoHBZN1BB5jG",
        "colab_type": "code",
        "outputId": "2fd5047e-d524-4055-c603-4d8436d08b7a",
        "colab": {
          "base_uri": "https://localhost:8080/",
          "height": 328
        }
      },
      "cell_type": "code",
      "source": [
        "scan_object.data"
      ],
      "execution_count": 0,
      "outputs": [
        {
          "output_type": "execute_result",
          "data": {
            "text/html": [
              "<div>\n",
              "<style scoped>\n",
              "    .dataframe tbody tr th:only-of-type {\n",
              "        vertical-align: middle;\n",
              "    }\n",
              "\n",
              "    .dataframe tbody tr th {\n",
              "        vertical-align: top;\n",
              "    }\n",
              "\n",
              "    .dataframe thead th {\n",
              "        text-align: right;\n",
              "    }\n",
              "</style>\n",
              "<table border=\"1\" class=\"dataframe\">\n",
              "  <thead>\n",
              "    <tr style=\"text-align: right;\">\n",
              "      <th></th>\n",
              "      <th>round_epochs</th>\n",
              "      <th>val_loss</th>\n",
              "      <th>val_acc</th>\n",
              "      <th>loss</th>\n",
              "      <th>acc</th>\n",
              "      <th>units</th>\n",
              "      <th>Dropout</th>\n",
              "    </tr>\n",
              "  </thead>\n",
              "  <tbody>\n",
              "    <tr>\n",
              "      <th>0</th>\n",
              "      <td>30</td>\n",
              "      <td>0.12650565271445652</td>\n",
              "      <td>0.9555757026291931</td>\n",
              "      <td>0.11647951732083049</td>\n",
              "      <td>0.954916439907031</td>\n",
              "      <td>64</td>\n",
              "      <td>0.8</td>\n",
              "    </tr>\n",
              "    <tr>\n",
              "      <th>1</th>\n",
              "      <td>30</td>\n",
              "      <td>0.1118909985583583</td>\n",
              "      <td>0.9605621033544878</td>\n",
              "      <td>0.1177000504572001</td>\n",
              "      <td>0.9553050913330743</td>\n",
              "      <td>64</td>\n",
              "      <td>0.7</td>\n",
              "    </tr>\n",
              "    <tr>\n",
              "      <th>2</th>\n",
              "      <td>30</td>\n",
              "      <td>0.11668117210971476</td>\n",
              "      <td>0.9555757024670771</td>\n",
              "      <td>0.11718041456155726</td>\n",
              "      <td>0.9525845316750875</td>\n",
              "      <td>64</td>\n",
              "      <td>0.5</td>\n",
              "    </tr>\n",
              "    <tr>\n",
              "      <th>3</th>\n",
              "      <td>30</td>\n",
              "      <td>0.11551105764002986</td>\n",
              "      <td>0.9605621033544878</td>\n",
              "      <td>0.12152238045534965</td>\n",
              "      <td>0.9541391371476062</td>\n",
              "      <td>128</td>\n",
              "      <td>0.5</td>\n",
              "    </tr>\n",
              "    <tr>\n",
              "      <th>4</th>\n",
              "      <td>30</td>\n",
              "      <td>0.1496263371235062</td>\n",
              "      <td>0.9514959202175884</td>\n",
              "      <td>0.13124724172904156</td>\n",
              "      <td>0.9486980178779635</td>\n",
              "      <td>32</td>\n",
              "      <td>0.7</td>\n",
              "    </tr>\n",
              "    <tr>\n",
              "      <th>5</th>\n",
              "      <td>30</td>\n",
              "      <td>0.1178307432144313</td>\n",
              "      <td>0.9551223934723482</td>\n",
              "      <td>0.12238699158062175</td>\n",
              "      <td>0.9518072289156626</td>\n",
              "      <td>128</td>\n",
              "      <td>0.7</td>\n",
              "    </tr>\n",
              "    <tr>\n",
              "      <th>6</th>\n",
              "      <td>30</td>\n",
              "      <td>0.12393545845383314</td>\n",
              "      <td>0.9519492293744334</td>\n",
              "      <td>0.12244204704979492</td>\n",
              "      <td>0.9508356004200508</td>\n",
              "      <td>32</td>\n",
              "      <td>0.8</td>\n",
              "    </tr>\n",
              "    <tr>\n",
              "      <th>7</th>\n",
              "      <td>30</td>\n",
              "      <td>0.12114448429288803</td>\n",
              "      <td>0.9551223934723482</td>\n",
              "      <td>0.12467113660783838</td>\n",
              "      <td>0.9518072289156626</td>\n",
              "      <td>32</td>\n",
              "      <td>0.5</td>\n",
              "    </tr>\n",
              "    <tr>\n",
              "      <th>8</th>\n",
              "      <td>30</td>\n",
              "      <td>0.47728870426754677</td>\n",
              "      <td>0.6659111513512197</td>\n",
              "      <td>0.4729716697880789</td>\n",
              "      <td>0.6605130198443858</td>\n",
              "      <td>128</td>\n",
              "      <td>0.8</td>\n",
              "    </tr>\n",
              "  </tbody>\n",
              "</table>\n",
              "</div>"
            ],
            "text/plain": [
              "  round_epochs             val_loss             val_acc                 loss  \\\n",
              "0           30  0.12650565271445652  0.9555757026291931  0.11647951732083049   \n",
              "1           30   0.1118909985583583  0.9605621033544878   0.1177000504572001   \n",
              "2           30  0.11668117210971476  0.9555757024670771  0.11718041456155726   \n",
              "3           30  0.11551105764002986  0.9605621033544878  0.12152238045534965   \n",
              "4           30   0.1496263371235062  0.9514959202175884  0.13124724172904156   \n",
              "5           30   0.1178307432144313  0.9551223934723482  0.12238699158062175   \n",
              "6           30  0.12393545845383314  0.9519492293744334  0.12244204704979492   \n",
              "7           30  0.12114448429288803  0.9551223934723482  0.12467113660783838   \n",
              "8           30  0.47728870426754677  0.6659111513512197   0.4729716697880789   \n",
              "\n",
              "                  acc units Dropout  \n",
              "0   0.954916439907031    64     0.8  \n",
              "1  0.9553050913330743    64     0.7  \n",
              "2  0.9525845316750875    64     0.5  \n",
              "3  0.9541391371476062   128     0.5  \n",
              "4  0.9486980178779635    32     0.7  \n",
              "5  0.9518072289156626   128     0.7  \n",
              "6  0.9508356004200508    32     0.8  \n",
              "7  0.9518072289156626    32     0.5  \n",
              "8  0.6605130198443858   128     0.8  "
            ]
          },
          "metadata": {
            "tags": []
          },
          "execution_count": 30
        }
      ]
    },
    {
      "metadata": {
        "id": "wM83Rcab0sZH",
        "colab_type": "text"
      },
      "cell_type": "markdown",
      "source": [
        "#### Best HyperParameter values are : UNITS =64 ,Dropout=0.7,batchsize=16,epoch=30"
      ]
    },
    {
      "metadata": {
        "id": "uB3J-kHl1CBt",
        "colab_type": "text"
      },
      "cell_type": "markdown",
      "source": [
        "### Training Model from best HyperParameters valuse"
      ]
    },
    {
      "metadata": {
        "id": "ZMilxO39_F97",
        "colab_type": "code",
        "outputId": "d7a946e9-8279-4f3b-f6d9-3e0d16c1f129",
        "colab": {
          "base_uri": "https://localhost:8080/",
          "height": 1071
        }
      },
      "cell_type": "code",
      "source": [
        "#best accuracy= 64 units and DRopout =0.7 and batchsizre 6 and epoch 30\n",
        "model = Sequential()\n",
        "model.add(LSTM(64,return_sequences=True, input_shape=(128,9)))\n",
        "model.add(Dropout(0.7))\n",
        "model.add(LSTM(32))\n",
        "model.add(Dense(6, activation='sigmoid'))\n",
        "\n",
        "adam=Adam(lr=1e-3)\n",
        "model.compile(optimizer=adam , loss='categorical_crossentropy' ,metrics=['accuracy'])\n",
        "model.fit(x_train,\n",
        "          y_train,\n",
        "          batch_size=16,\n",
        "          validation_data=(x_test, y_test),\n",
        "          epochs=30)"
      ],
      "execution_count": 0,
      "outputs": [
        {
          "output_type": "stream",
          "text": [
            "Train on 7352 samples, validate on 2947 samples\n",
            "Epoch 1/30\n",
            "7352/7352 [==============================] - 67s 9ms/step - loss: 1.0599 - acc: 0.5486 - val_loss: 0.8127 - val_acc: 0.6179\n",
            "Epoch 2/30\n",
            "7352/7352 [==============================] - 65s 9ms/step - loss: 0.8177 - acc: 0.6155 - val_loss: 0.8009 - val_acc: 0.6125\n",
            "Epoch 3/30\n",
            "7352/7352 [==============================] - 66s 9ms/step - loss: 0.6058 - acc: 0.7393 - val_loss: 0.6377 - val_acc: 0.6756\n",
            "Epoch 4/30\n",
            "7352/7352 [==============================] - 66s 9ms/step - loss: 0.4715 - acc: 0.7969 - val_loss: 0.4688 - val_acc: 0.8422\n",
            "Epoch 5/30\n",
            "7352/7352 [==============================] - 69s 9ms/step - loss: 0.3193 - acc: 0.8901 - val_loss: 0.3109 - val_acc: 0.9036\n",
            "Epoch 6/30\n",
            "7352/7352 [==============================] - 67s 9ms/step - loss: 0.2212 - acc: 0.9249 - val_loss: 0.3184 - val_acc: 0.9002\n",
            "Epoch 7/30\n",
            "7352/7352 [==============================] - 88s 12ms/step - loss: 0.1845 - acc: 0.9376 - val_loss: 0.2805 - val_acc: 0.9013\n",
            "Epoch 8/30\n",
            "7352/7352 [==============================] - 66s 9ms/step - loss: 0.1866 - acc: 0.9321 - val_loss: 0.2856 - val_acc: 0.9125\n",
            "Epoch 9/30\n",
            "7352/7352 [==============================] - 66s 9ms/step - loss: 0.1773 - acc: 0.9344 - val_loss: 0.2875 - val_acc: 0.9070\n",
            "Epoch 10/30\n",
            "7352/7352 [==============================] - 66s 9ms/step - loss: 0.1290 - acc: 0.9527 - val_loss: 0.2630 - val_acc: 0.9094\n",
            "Epoch 11/30\n",
            "7352/7352 [==============================] - 66s 9ms/step - loss: 0.1286 - acc: 0.9504 - val_loss: 0.2538 - val_acc: 0.9145\n",
            "Epoch 12/30\n",
            "7352/7352 [==============================] - 67s 9ms/step - loss: 0.1273 - acc: 0.9499 - val_loss: 0.2388 - val_acc: 0.9131\n",
            "Epoch 13/30\n",
            "7352/7352 [==============================] - 66s 9ms/step - loss: 0.1374 - acc: 0.9493 - val_loss: 0.2406 - val_acc: 0.9087\n",
            "Epoch 14/30\n",
            "7352/7352 [==============================] - 67s 9ms/step - loss: 0.1439 - acc: 0.9455 - val_loss: 0.3138 - val_acc: 0.9063\n",
            "Epoch 15/30\n",
            "7352/7352 [==============================] - 140s 19ms/step - loss: 0.1131 - acc: 0.9531 - val_loss: 0.2780 - val_acc: 0.9145\n",
            "Epoch 16/30\n",
            "7352/7352 [==============================] - 105s 14ms/step - loss: 0.1159 - acc: 0.9532 - val_loss: 0.2895 - val_acc: 0.9114\n",
            "Epoch 17/30\n",
            "7352/7352 [==============================] - 68s 9ms/step - loss: 0.1550 - acc: 0.9455 - val_loss: 0.2922 - val_acc: 0.9175\n",
            "Epoch 18/30\n",
            "7352/7352 [==============================] - 67s 9ms/step - loss: 0.1115 - acc: 0.9529 - val_loss: 0.2962 - val_acc: 0.9145\n",
            "Epoch 19/30\n",
            "7352/7352 [==============================] - 68s 9ms/step - loss: 0.1249 - acc: 0.9532 - val_loss: 0.2872 - val_acc: 0.9155\n",
            "Epoch 20/30\n",
            "7352/7352 [==============================] - 67s 9ms/step - loss: 0.1083 - acc: 0.9555 - val_loss: 0.2752 - val_acc: 0.9158\n",
            "Epoch 21/30\n",
            "7352/7352 [==============================] - 67s 9ms/step - loss: 0.1668 - acc: 0.9429 - val_loss: 0.3213 - val_acc: 0.8873\n",
            "Epoch 22/30\n",
            "7352/7352 [==============================] - 66s 9ms/step - loss: 0.1175 - acc: 0.9547 - val_loss: 0.3037 - val_acc: 0.9080\n",
            "Epoch 23/30\n",
            "7352/7352 [==============================] - 100s 14ms/step - loss: 0.1130 - acc: 0.9554 - val_loss: 0.2845 - val_acc: 0.9084\n",
            "Epoch 24/30\n",
            "7352/7352 [==============================] - 139s 19ms/step - loss: 0.1037 - acc: 0.9576 - val_loss: 0.2526 - val_acc: 0.9223\n",
            "Epoch 25/30\n",
            "7352/7352 [==============================] - 66s 9ms/step - loss: 0.1047 - acc: 0.9581 - val_loss: 0.2509 - val_acc: 0.9186\n",
            "Epoch 26/30\n",
            "7352/7352 [==============================] - 67s 9ms/step - loss: 0.1012 - acc: 0.9588 - val_loss: 0.2464 - val_acc: 0.9223\n",
            "Epoch 27/30\n",
            "7352/7352 [==============================] - 69s 9ms/step - loss: 0.1021 - acc: 0.9574 - val_loss: 0.2211 - val_acc: 0.9240\n",
            "Epoch 28/30\n",
            "7352/7352 [==============================] - 67s 9ms/step - loss: 0.1506 - acc: 0.9479 - val_loss: 0.2350 - val_acc: 0.9274\n",
            "Epoch 29/30\n",
            "7352/7352 [==============================] - 95s 13ms/step - loss: 0.1134 - acc: 0.9559 - val_loss: 0.2411 - val_acc: 0.9128\n",
            "Epoch 30/30\n",
            "7352/7352 [==============================] - 127s 17ms/step - loss: 0.1181 - acc: 0.9533 - val_loss: 0.2815 - val_acc: 0.9145\n"
          ],
          "name": "stdout"
        },
        {
          "output_type": "execute_result",
          "data": {
            "text/plain": [
              "<keras.callbacks.History at 0x7fcb58337978>"
            ]
          },
          "metadata": {
            "tags": []
          },
          "execution_count": 32
        }
      ]
    },
    {
      "metadata": {
        "id": "55xymedXAQx3",
        "colab_type": "code",
        "colab": {}
      },
      "cell_type": "code",
      "source": [
        ""
      ],
      "execution_count": 0,
      "outputs": []
    },
    {
      "metadata": {
        "id": "D5iAfxEh2lsQ",
        "colab_type": "text"
      },
      "cell_type": "markdown",
      "source": [
        "## Comparsions"
      ]
    },
    {
      "metadata": {
        "id": "B7QGg8xm2oZB",
        "colab_type": "code",
        "colab": {}
      },
      "cell_type": "code",
      "source": [
        "res=pd.DataFrame( {'Batchsize':[16,128,8,16],\n",
        "               'Dropout':['-',0.7,0.7,0.7],\n",
        "               'optimizer':['rmsprop','adam','adam','adam'],\n",
        "               'units':[32,32,32,64],\n",
        "               'validation_data':[('x_test', 'y_test'),'0.2*traindata' ,'0.2*traindata' , ('x_test', 'y_test')] ,\n",
        "               'loss': [0.1685,0.9776,0.3341,0.1181] , \n",
        "               'acc': [0.9483,0.5531,0.9022 ,0.9533] , \n",
        "               'val_loss' : [0.5401,1.0182,0.5777,0.2815],\n",
        "              'val_acc': [0.8785,0.5744,0.8708,0.9415]} , index=['LSTM-rmsprop','LSTM-adam-batchsize128','LSTM-adam-batchsize8','2LSTMcells-hiden32-hyperparameter'])\n"
      ],
      "execution_count": 0,
      "outputs": []
    },
    {
      "metadata": {
        "id": "XyadLvOM_hvH",
        "colab_type": "code",
        "colab": {
          "base_uri": "https://localhost:8080/",
          "height": 153
        },
        "outputId": "517abca7-ac50-41de-f45e-ddeff37b70aa"
      },
      "cell_type": "code",
      "source": [
        "from prettytable import PrettyTable\n",
        "    \n",
        "x = PrettyTable()\n",
        "\n",
        "x.field_names = [\"ALGO\" , \"Batchsize\" ,'Dropout','optimizer','units','Train_loss','Train_acc','Test_loss','Test_acc']\n",
        "\n",
        "x.add_row([ \"LSTM-rmsprop \" ,16,'-' ,'rmsprop',32,0.1685,0.9483,0.5401,0.8785 ]) \n",
        "x.add_row([ \"LSTM-adam-batchsize128 \" ,128,0.7 ,'adam',32,0.9776,0.5531,1.0182,0.5744 ]) \n",
        "x.add_row([ \"LSTM-adam-batchsize8 \" ,8,0.7 ,'adam',32,0.3341,0.9022,0.5777,0.8708]) \n",
        "x.add_row([ \"2LSTMcells-hiden32-hyperparameter \" ,16,0.7,'adam',64,0.1181,0.9533,0.2815,0.9415 ]) \n",
        "\n",
        "#x.add_row([ \"Logistic Regression \" , {'alpha' : 0.1 }  , 0.3243 , 0.4219 ])\n",
        "#x.add#_row([ \"Linear SVM\" , {'alpha' :0.00001} , 0.4858, 0.5419 ])\n",
        "#x.add_row([ \"XGBost\" , {'max_depth': 4, 'min_child_weight': 2, 'reg_alpha': 0.001} , 0.3540, 0.3593 ])\n",
        "\n",
        "print(x)"
      ],
      "execution_count": 11,
      "outputs": [
        {
          "output_type": "stream",
          "text": [
            "+------------------------------------+-----------+---------+-----------+-------+------------+-----------+-----------+----------+\n",
            "|                ALGO                | Batchsize | Dropout | optimizer | units | Train_loss | Train_acc | Test_loss | Test_acc |\n",
            "+------------------------------------+-----------+---------+-----------+-------+------------+-----------+-----------+----------+\n",
            "|           LSTM-rmsprop             |     16    |    -    |  rmsprop  |   32  |   0.1685   |   0.9483  |   0.5401  |  0.8785  |\n",
            "|      LSTM-adam-batchsize128        |    128    |   0.7   |    adam   |   32  |   0.9776   |   0.5531  |   1.0182  |  0.5744  |\n",
            "|       LSTM-adam-batchsize8         |     8     |   0.7   |    adam   |   32  |   0.3341   |   0.9022  |   0.5777  |  0.8708  |\n",
            "| 2LSTMcells-hiden32-hyperparameter  |     16    |   0.7   |    adam   |   64  |   0.1181   |   0.9533  |   0.2815  |  0.9415  |\n",
            "+------------------------------------+-----------+---------+-----------+-------+------------+-----------+-----------+----------+\n"
          ],
          "name": "stdout"
        }
      ]
    },
    {
      "metadata": {
        "id": "pcg7NNON4m0o",
        "colab_type": "code",
        "outputId": "6f839d05-965d-461a-d554-d3f858c53abf",
        "colab": {
          "base_uri": "https://localhost:8080/",
          "height": 878
        }
      },
      "cell_type": "code",
      "source": [
        "import matplotlib.pyplot as plt\n",
        "a=res[['acc','loss','val_acc','val_loss']]\n",
        "a.plot(kind='bar')\n",
        "plt.rcParams[\"figure.figsize\"] = (5,5)\n",
        "plt.title(\"Plot of LSTM MOdels \",fontsize=20)\n",
        "plt.xlabel(\"Models\",fontsize=20)\n",
        "plt.ylabel(\"Loss & Accuracy\",fontsize=20)\n",
        "plt.xticks(fontsize=14) #rotation=90)\n",
        "plt.yticks(fontsize=14)\n",
        "\n",
        "plt.show()"
      ],
      "execution_count": 0,
      "outputs": [
        {
          "output_type": "display_data",
          "data": {
            "image/png": "[encoded data removed]",
            "text/plain": [
              "<Figure size 1440x720 with 1 Axes>"
            ]
          },
          "metadata": {
            "tags": []
          }
        }
      ]
    },
    {
      "metadata": {
        "id": "So3-Q3Oq_5dE",
        "colab_type": "code",
        "colab": {}
      },
      "cell_type": "code",
      "source": [
        ""
      ],
      "execution_count": 0,
      "outputs": []
    }
  ]
}